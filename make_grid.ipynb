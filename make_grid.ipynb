{
 "cells": [
  {
   "cell_type": "code",
   "execution_count": 3,
   "id": "3bf1ac81-4330-497d-b2df-a2f020f85815",
   "metadata": {},
   "outputs": [],
   "source": [
    "import geopandas as gpd\n",
    "from shapely.geometry import box\n",
    "import numpy as np\n",
    "\n",
    "# Load the Russia boundary shapefile (replace with your path to the shapefile)\n",
    "russia = gpd.read_file('/explore/nobackup/people/spotter5/viirs_nrt/Data/shapefiles/circumpolar.gpkg').to_crs(epsg=3571)\n",
    "russia.to_file('/explore/nobackup/people/spotter5/viirs_nrt/Data/shapefiles/circumpolar.shp')\n",
    "\n",
    "# # Define the grid parameters\n",
    "# grid_size = 10_000  # Grid size in meters (10 km)\n",
    "\n",
    "# # Get the bounds of Russia\n",
    "# minx, miny, maxx, maxy = russia.total_bounds\n",
    "\n",
    "# # Convert grid size to degrees (approximation, adjust as needed)\n",
    "# def meters_to_degrees(meters):\n",
    "#     return meters / 111_320  # Approximate conversion factor at the equator\n",
    "\n",
    "# grid_size_deg = meters_to_degrees(grid_size)\n",
    "\n",
    "# # Generate the grid cells\n",
    "# def create_grid(minx, miny, maxx, maxy, grid_size):\n",
    "#     # Create lists of x and y coordinates at the given grid size interval\n",
    "#     x_coords = np.arange(minx, maxx, grid_size)\n",
    "#     y_coords = np.arange(miny, maxy, grid_size)\n",
    "    \n",
    "#     # Create a list to hold the grid cells\n",
    "#     grid_cells = []\n",
    "    \n",
    "#     # Iterate over x and y coordinates to create the grid cells\n",
    "#     for x in x_coords:\n",
    "#         for y in y_coords:\n",
    "#             grid_cells.append(box(x, y, x + grid_size, y + grid_size))\n",
    "    \n",
    "#     return grid_cells\n",
    "\n",
    "# grid_cells = create_grid(minx, miny, maxx, maxy, grid_size_deg)\n",
    "\n",
    "# # Create a GeoDataFrame from the grid cells\n",
    "# grid = gpd.GeoDataFrame({'geometry': grid_cells}, crs=russia.crs)\n",
    "\n",
    "# # Clip the grid to the Russia boundary\n",
    "# grid_clipped = gpd.clip(grid, russia)\n",
    "\n",
    "# # Plot the result\n",
    "# import matplotlib.pyplot as plt\n",
    "\n",
    "# fig, ax = plt.subplots(figsize=(10, 10))\n",
    "# russia.boundary.plot(ax=ax, color='blue')\n",
    "# grid_clipped.boundary.plot(ax=ax, color='red')\n",
    "# plt.show()\n"
   ]
  },
  {
   "cell_type": "code",
   "execution_count": null,
   "id": "aa069799-d621-424d-862a-cfd66e8bda8a",
   "metadata": {},
   "outputs": [],
   "source": []
  }
 ],
 "metadata": {
  "kernelspec": {
   "display_name": "Python [conda env:.conda-deeplearning3]",
   "language": "python",
   "name": "conda-env-.conda-deeplearning3-py"
  },
  "language_info": {
   "codemirror_mode": {
    "name": "ipython",
    "version": 3
   },
   "file_extension": ".py",
   "mimetype": "text/x-python",
   "name": "python",
   "nbconvert_exporter": "python",
   "pygments_lexer": "ipython3",
   "version": "3.10.11"
  }
 },
 "nbformat": 4,
 "nbformat_minor": 5
}
