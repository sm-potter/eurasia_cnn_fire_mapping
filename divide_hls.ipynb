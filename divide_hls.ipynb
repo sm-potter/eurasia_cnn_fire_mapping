{
 "cells": [
  {
   "cell_type": "code",
   "execution_count": 10,
   "id": "8658ed50-7c57-430a-bf01-eec0c7294ab6",
   "metadata": {},
   "outputs": [
    {
     "name": "stdout",
     "output_type": "stream",
     "text": [
      "Processed 2020_07_01_08_01_hls_175.tif0000000000-0000000000.tif\n",
      "Processed 2020_07_01_08_01_hls_175.tif0000000000-0000018944.tif\n",
      "Processed 2020_07_01_08_01_hls_175.tif0000018944-0000018944.tif\n",
      "Processed 2020_07_01_08_01_hls_175.tif0000018944-0000000000.tif\n"
     ]
    }
   ],
   "source": [
    "import glob\n",
    "import os\n",
    "import rioxarray\n",
    "import numpy as np\n",
    "\n",
    "path = '/explore/nobackup/people/spotter5/cnn_mapping/Russia/hls_test'\n",
    "\n",
    "out_path = '/explore/nobackup/people/spotter5/cnn_mapping/Russia/hls_test_divided'\n",
    "os.makedirs(out_path, exist_ok = True)\n",
    "\n",
    "for f in os.listdir(path):\n",
    "    \n",
    "    if f.endswith('.tif'):\n",
    "    \n",
    "        year = f.split('_')[0]\n",
    "        m1 = f.split('_')[1]\n",
    "        m2 = f.split('_')[2]\n",
    "        tile = f.split('.')[0].split('_')[-1]\n",
    "\n",
    "        if year == '2020' and m1 == '07' and tile == '175':\n",
    "\n",
    "            # Open the TIFF file with rioxarray\n",
    "            ds = rioxarray.open_rasterio(os.path.join(path, f))\n",
    "\n",
    "            # Divide all bands by 1000\n",
    "            ds =  np.round(ds / 1000, 3)\n",
    "            \n",
    "            # ds = ds.round(decimals=3)\n",
    "\n",
    "            # Save the modified dataset to a new file\n",
    "            ds.rio.to_raster(os.path.join(out_path, f), compress='lzw')\n",
    "            \n",
    "            print(f\"Processed {f}\")\n",
    "                             \n",
    "                        \n"
   ]
  },
  {
   "cell_type": "code",
   "execution_count": 9,
   "id": "4394eb89-5388-44ea-8f9b-52357d8deb21",
   "metadata": {},
   "outputs": [
    {
     "data": {
      "text/plain": [
       "'t'"
      ]
     },
     "execution_count": 9,
     "metadata": {},
     "output_type": "execute_result"
    }
   ],
   "source": [
    "'t'"
   ]
  },
  {
   "cell_type": "code",
   "execution_count": null,
   "id": "22e7b416-66d8-48cb-8263-581ea0c022e1",
   "metadata": {},
   "outputs": [],
   "source": []
  }
 ],
 "metadata": {
  "kernelspec": {
   "display_name": "Python [conda env:.conda-deeplearning3]",
   "language": "python",
   "name": "conda-env-.conda-deeplearning3-py"
  },
  "language_info": {
   "codemirror_mode": {
    "name": "ipython",
    "version": 3
   },
   "file_extension": ".py",
   "mimetype": "text/x-python",
   "name": "python",
   "nbconvert_exporter": "python",
   "pygments_lexer": "ipython3",
   "version": "3.10.8"
  }
 },
 "nbformat": 4,
 "nbformat_minor": 5
}
