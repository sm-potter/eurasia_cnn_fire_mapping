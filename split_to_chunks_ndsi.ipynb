{
 "cells": [
  {
   "cell_type": "markdown",
   "id": "3b9ae94c-8d96-4870-b896-d810dd15d48b",
   "metadata": {},
   "source": [
    "This script will read in the tif files and split into chunks of 128x128 for training the model.  Note I will ignore all chunks where there is no data for dNBR as we wouldn't want to train on this.  \n",
    "The in path and outpath have to be where the files from the tif files were sent to from the google cloud storage bucket after downloading from earth engine. "
   ]
  },
  {
   "cell_type": "markdown",
   "id": "4e64633b-961c-46f4-ade9-24384ff8bb0e",
   "metadata": {},
   "source": [
    "Read in packages"
   ]
  },
  {
   "cell_type": "code",
   "execution_count": 1,
   "id": "00387a58-86f6-4282-bf6b-23d2bef9e01a",
   "metadata": {
    "tags": []
   },
   "outputs": [],
   "source": [
    "import pandas as pd\n",
    "import os\n",
    "import numpy as np\n",
    "import xarray as xr\n",
    "import rioxarray\n",
    "import glob\n",
    "import random\n",
    "import geopandas as gpd\n",
    "from sklearn.utils import shuffle\n",
    "from MightyMosaic import MightyMosaic\n"
   ]
  },
  {
   "cell_type": "markdown",
   "id": "7eb814a3-fb19-4363-bfc9-69349d7bc735",
   "metadata": {},
   "source": [
    "Right now the files are called final_i.tif, make median_i.tif"
   ]
  },
  {
   "cell_type": "code",
   "execution_count": 4,
   "id": "636a12db-6452-429b-b1a1-cf11e613949f",
   "metadata": {
    "collapsed": true,
    "jupyter": {
     "outputs_hidden": true
    }
   },
   "outputs": [],
   "source": [
    "import os\n",
    "import re\n",
    "\n",
    "# Define the input path\n",
    "in_path = '/explore/nobackup/people/spotter5/cnn_mapping/Russia/anna_monthly_ndsi'\n",
    "\n",
    "# List all files in the directory\n",
    "files = os.listdir(in_path)\n",
    "\n",
    "# Loop through the files\n",
    "for file_name in files:\n",
    "    if 'final' in file_name:\n",
    "        # Extract the number i using regex\n",
    "        match = re.search(r'\\d+', file_name)\n",
    "        if match:\n",
    "            number = match.group(0)\n",
    "            # Create the new file name\n",
    "            new_name = f'median_{number}.tif'\n",
    "            # Get the full paths\n",
    "            old_file = os.path.join(in_path, file_name)\n",
    "            new_file = os.path.join(in_path, new_name)\n",
    "            # Rename the file\n",
    "            os.rename(old_file, new_file)\n",
    "            print(f'Renamed: {old_file} -> {new_file}')"
   ]
  },
  {
   "cell_type": "markdown",
   "id": "649a36b9-8b64-4ac7-8556-57d38ad118b0",
   "metadata": {},
   "source": [
    "First take the input tif files and chunk them to sizes of 128x128 for the neural network.  "
   ]
  },
  {
   "cell_type": "code",
   "execution_count": null,
   "id": "ec0dd24e-f417-4f53-9bf3-4a46103d1a07",
   "metadata": {
    "collapsed": true,
    "jupyter": {
     "outputs_hidden": true
    },
    "tags": []
   },
   "outputs": [],
   "source": [
    "\"\"\"arguments are path to .tif files to be chunked, out_path to save files, chunk size, and if desired a threshold\"\"\"       \n",
    "\n",
    "#why din't 15524 save?\n",
    "\n",
    "#check if all 0\n",
    "def is_matrix_all_zeros(matrix):\n",
    "    # Convert the matrix to a NumPy array\n",
    "    np_matrix = np.array(matrix)\n",
    "\n",
    "    # Check if all elements in the array are zeros\n",
    "    return np.all(np_matrix == 0)\n",
    "\n",
    "#in_path to tif files\n",
    "in_path = '/explore/nobackup/people/spotter5/cnn_mapping/Russia/anna_monthly_ndsi'\n",
    "\n",
    "#out_path which will be manipulated based on parameters below\n",
    "out_path = '/explore/nobackup/people/spotter5/cnn_mapping/Russia/anna_monthly_ndsi'\n",
    "\n",
    "\n",
    "#right now everything is set to use 0 dnbr threshold\n",
    "size = 128\n",
    "threshold = True\n",
    "\n",
    "if threshold == True:\n",
    "\n",
    "    out_path = out_path + '_subs_0_' + str(size)\n",
    "    if not os.path.isdir(out_path):\n",
    "        os.makedirs(out_path)\n",
    "\n",
    "if threshold == False:\n",
    "\n",
    "    out_path = out_path + '_subs_' + str(size)\n",
    "    if not os.path.isdir(out_path):\n",
    "        os.makedirs(out_path)\n",
    "\n",
    "files = os.listdir(in_path)\n",
    "\n",
    "# files = ['median_6169.tif']\n",
    "\n",
    "#loop through files\n",
    "for f in files:\n",
    "\n",
    "    if f.endswith('.tif'):\n",
    "        \n",
    "         \n",
    "        #in file\n",
    "        try:\n",
    "        \n",
    "            #file name\n",
    "            f2 = f.replace('median_', '')\n",
    "\n",
    "            #ID of file\n",
    "            f_id = int(f2.replace('.tif', ''))\n",
    "        \n",
    "     \n",
    "\n",
    "            #read in file\n",
    "            in_mat = rioxarray.open_rasterio(os.path.join(in_path, f))\n",
    "\n",
    "            \n",
    "            #now turn in mat to numpy, and in mtbs to numpy\n",
    "            in_mat = in_mat.to_numpy().astype(float)\n",
    "\n",
    "\n",
    "            #convert to band last\n",
    "            in_mat = np.moveaxis(in_mat, 0, 2) \n",
    "            \n",
    "               \n",
    "            #get dnbr\n",
    "            t = in_mat[:, :, 0]\n",
    "            \n",
    "             #check if all 0\n",
    "            result = is_matrix_all_zeros(t)\n",
    "            \n",
    "            #if it is not all 0s keep data\n",
    "            if result == False:\n",
    "\n",
    "                #mosaic\n",
    "                mosaic = MightyMosaic.from_array(in_mat, (size,size), overlap_factor=1) \n",
    "\n",
    "                #take off last dimensions of mosaic which give edge effects as they are filled with no data\n",
    "                mosaic = mosaic[:-1, :-1, :, :, :]\n",
    "\n",
    "\n",
    "                #first two dimensions are number of chunks, 3 and 4 are size (256, 266) and last is nbands\n",
    "                for i in range(mosaic.shape[0]):\n",
    "\n",
    "                    for j in range(mosaic.shape[1]):\n",
    "\n",
    "                        fname = os.path.join(str(i) + '_' +  str(j)+ '_' + f2.replace('.tif', '.npy'))\n",
    "                        out_name = os.path.join(out_path, fname)\n",
    "\n",
    "                        if os.path.exists(out_name) == False:\n",
    "\n",
    "                            in_mat3 = mosaic[i, j, :, :, :-1]\n",
    "\n",
    "                            target = mosaic[i, j, :, :, 3]\n",
    "\n",
    "                            #turn nan to -999\n",
    "                            in_mat[np.isnan(in_mat)] = -999\n",
    "\n",
    "                            target = target.astype('int')\n",
    "\n",
    "                            target[target <0 ] = 0\n",
    "                            target[target >1 ] = 0\n",
    "\n",
    "                            #\n",
    "                            target[~np.isin(target, [0,1])] = 0\n",
    "\n",
    "                            #turn nan to 0\n",
    "                            target[np.isnan(target)] = 0\n",
    "\n",
    "                            #if the target is all 0 don't train on it\n",
    "                            # if np.all(target == 0) == False:\n",
    "\n",
    "                            #now get dnbr which is the 6th band\n",
    "                            dnbr = in_mat3[:, :, 0]\n",
    "                            \n",
    "                            result1 = is_matrix_all_zeros(dnbr)\n",
    "\n",
    "                            if result1 == False:\n",
    "\n",
    "                                #if threshold apply dnbr threshold\n",
    "                                target[dnbr < 0] = 0\n",
    "\n",
    "                                e = np.dstack([in_mat3, target])\n",
    "\n",
    "                                np.save(out_name, e)\n",
    "\n",
    "                                print(f)\n",
    "\n",
    "        except:\n",
    "            pass"
   ]
  },
  {
   "cell_type": "markdown",
   "id": "16ea10fc-8c48-44c6-9c43-ff1301e5de84",
   "metadata": {},
   "source": [
    "Tryy to mnake faster with dask"
   ]
  },
  {
   "cell_type": "code",
   "execution_count": 8,
   "id": "84870866-624f-436d-a218-6d190d2d81ff",
   "metadata": {
    "collapsed": true,
    "jupyter": {
     "outputs_hidden": true
    }
   },
   "outputs": [
    {
     "name": "stdout",
     "output_type": "stream",
     "text": [
      "[                                        ] | 0% Completed | 5.48 s msError processing median_4592.tif: i_begin (0) should be less than i_end (0) (0 < 0 is False)\n",
      "[                                        ] | 2% Completed | 12.41 sError processing median_4955.tif: j_begin (0) should be less than j_end (0) (0 < 0 is False)\n",
      "[#                                       ] | 2% Completed | 15.71 sError processing median_7108.tif: i_begin (0) should be less than i_end (0) (0 < 0 is False)\n",
      "[#                                       ] | 3% Completed | 19.86 sError processing median_16676.tif: j_begin (0) should be less than j_end (0) (0 < 0 is False)\n",
      "[#                                       ] | 4% Completed | 26.43 sError processing median_13397.tif: i_begin (0) should be less than i_end (0) (0 < 0 is False)\n",
      "[##                                      ] | 5% Completed | 33.28 s"
     ]
    },
    {
     "name": "stderr",
     "output_type": "stream",
     "text": [
      "ERROR 10: Pointer 'hObject' is NULL in 'GDALGetMetadata'.\n",
      "\n"
     ]
    },
    {
     "name": "stdout",
     "output_type": "stream",
     "text": [
      "[##                                      ] | 5% Completed | 33.48 sError processing median_1550.tif: j_begin (0) should be less than j_end (0) (0 < 0 is False)\n",
      "[##                                      ] | 6% Completed | 36.39 sError processing median_9817.tif: j_begin (0) should be less than j_end (0) (0 < 0 is False)\n",
      "[##                                      ] | 7% Completed | 39.23 sError processing median_9852.tif: i_begin (0) should be less than i_end (0) (0 < 0 is False)\n",
      "[###                                     ] | 9% Completed | 52.10 sError processing median_11958.tif: i_begin (0) should be less than i_end (0) (0 < 0 is False)\n",
      "[###                                     ] | 9% Completed | 52.96 sError processing median_9012.tif: i_begin (0) should be less than i_end (0) (0 < 0 is False)\n",
      "[####                                    ] | 10% Completed | 53.74 s"
     ]
    },
    {
     "name": "stderr",
     "output_type": "stream",
     "text": [
      "ERROR 10: Pointer 'hObject' is NULL in 'GDALGetMetadata'.\n",
      "\n",
      "ERROR 10: Pointer 'hObject' is NULL in 'GDALGetMetadata'.\n",
      "\n",
      "ERROR 10: Pointer 'hObject' is NULL in 'GDALGetMetadata'.\n",
      "\n"
     ]
    },
    {
     "name": "stdout",
     "output_type": "stream",
     "text": [
      "[####                                    ] | 10% Completed | 58.72 sError processing median_6976.tif: i_begin (0) should be less than i_end (0) (0 < 0 is False)\n",
      "[####                                    ] | 11% Completed | 59.95 sError processing median_182.tif: j_begin (0) should be less than j_end (0) (0 < 0 is False)\n",
      "[####                                    ] | 11% Completed | 60.16 sError processing median_4477.tif: i_begin (0) should be less than i_end (0) (0 < 0 is False)\n",
      "[####                                    ] | 11% Completed | 61.33 s"
     ]
    },
    {
     "name": "stderr",
     "output_type": "stream",
     "text": [
      "ERROR 10: Pointer 'hObject' is NULL in 'GDALGetMetadata'.\n",
      "\n"
     ]
    },
    {
     "name": "stdout",
     "output_type": "stream",
     "text": [
      "[#####                                   ] | 13% Completed | 73.70 sError processing median_16057.tif: i_begin (0) should be less than i_end (0) (0 < 0 is False)\n",
      "[#####                                   ] | 14% Completed | 76.44 sError processing median_2929.tif: j_begin (0) should be less than j_end (0) (0 < 0 is False)\n",
      "[#####                                   ] | 14% Completed | 76.77 sError processing median_17895.tif: j_begin (0) should be less than j_end (0) (0 < 0 is False)\n",
      "[#####                                   ] | 14% Completed | 77.83 sError processing median_3067.tif: j_begin (0) should be less than j_end (0) (0 < 0 is False)\n",
      "[######                                  ] | 15% Completed | 81.70 sError processing median_13023.tif: j_begin (0) should be less than j_end (0) (0 < 0 is False)\n",
      "[#######                                 ] | 19% Completed | 104.54 sError processing median_12490.tif: j_begin (0) should be less than j_end (0) (0 < 0 is False)\n",
      "[########                                ] | 20% Completed | 111.42 sError processing median_5121.tif: i_begin (0) should be less than i_end (0) (0 < 0 is False)\n",
      "[########                                ] | 22% Completed | 118.66 sError processing median_12277.tif: j_begin (0) should be less than j_end (0) (0 < 0 is False)\n",
      "[##########                              ] | 26% Completed | 141.58 sError processing median_788.tif: i_begin (0) should be less than i_end (0) (0 < 0 is False)\n",
      "[###########                             ] | 27% Completed | 144.74 sError processing median_898.tif: j_begin (0) should be less than j_end (0) (0 < 0 is False)\n",
      "[###########                             ] | 27% Completed | 146.00 s"
     ]
    },
    {
     "name": "stderr",
     "output_type": "stream",
     "text": [
      "ERROR 10: Pointer 'hObject' is NULL in 'GDALGetMetadata'.\n",
      "\n"
     ]
    },
    {
     "name": "stdout",
     "output_type": "stream",
     "text": [
      "[###########                             ] | 27% Completed | 146.30 sError processing median_14600.tif: i_begin (0) should be less than i_end (0) (0 < 0 is False)\n",
      "[###########                             ] | 27% Completed | 147.19 sError processing median_16708.tif: i_begin (0) should be less than i_end (0) (0 < 0 is False)\n",
      "[###########                             ] | 29% Completed | 153.16 s"
     ]
    },
    {
     "name": "stderr",
     "output_type": "stream",
     "text": [
      "ERROR 10: Pointer 'hObject' is NULL in 'GDALGetMetadata'.\n",
      "\n"
     ]
    },
    {
     "name": "stdout",
     "output_type": "stream",
     "text": [
      "[###########                             ] | 29% Completed | 153.67 sError processing median_18217.tif: i_begin (0) should be less than i_end (0) (0 < 0 is False)\n",
      "[###########                             ] | 29% Completed | 156.45 sError processing median_16117.tif: j_begin (0) should be less than j_end (0) (0 < 0 is False)\n",
      "[############                            ] | 30% Completed | 159.27 sError processing median_11188.tif: i_begin (0) should be less than i_end (0) (0 < 0 is False)\n",
      "[############                            ] | 30% Completed | 160.15 s"
     ]
    },
    {
     "name": "stderr",
     "output_type": "stream",
     "text": [
      "ERROR 10: Pointer 'hObject' is NULL in 'GDALGetMetadata'.\n",
      "\n",
      "ERROR 10: Pointer 'hObject' is NULL in 'GDALGetMetadata'.\n",
      "\n",
      "ERROR 10: Pointer 'hObject' is NULL in 'GDALGetMetadata'.\n",
      "\n"
     ]
    },
    {
     "name": "stdout",
     "output_type": "stream",
     "text": [
      "[############                            ] | 32% Completed | 168.65 s"
     ]
    },
    {
     "name": "stderr",
     "output_type": "stream",
     "text": [
      "ERROR 10: Pointer 'hObject' is NULL in 'GDALGetMetadata'.\n",
      "\n",
      "ERROR 10: Pointer 'hObject' is NULL in 'GDALGetMetadata'.\n",
      "\n",
      "ERROR 10: Pointer 'hObject' is NULL in 'GDALGetMetadata'.\n",
      "\n",
      "ERROR 10: Pointer 'hObject' is NULL in 'GDALGetMetadata'.\n",
      "\n"
     ]
    },
    {
     "name": "stdout",
     "output_type": "stream",
     "text": [
      "[############                            ] | 32% Completed | 168.92 s"
     ]
    },
    {
     "name": "stderr",
     "output_type": "stream",
     "text": [
      "ERROR 10: Pointer 'hObject' is NULL in 'GDALGetMetadata'.\n",
      "\n",
      "ERROR 10: Pointer 'hObject' is NULL in 'GDALGetMetadata'.\n",
      "\n",
      "ERROR 10: Pointer 'hObject' is NULL in 'GDALGetMetadata'.\n",
      "\n"
     ]
    },
    {
     "name": "stdout",
     "output_type": "stream",
     "text": [
      "[#############                           ] | 33% Completed | 175.35 sError processing median_12152.tif: i_begin (0) should be less than i_end (0) (0 < 0 is False)\n",
      "[#############                           ] | 33% Completed | 176.82 s"
     ]
    },
    {
     "name": "stderr",
     "output_type": "stream",
     "text": [
      "ERROR 10: Pointer 'hObject' is NULL in 'GDALGetMetadata'.\n",
      "\n",
      "ERROR 10: Pointer 'hObject' is NULL in 'GDALGetMetadata'.\n",
      "\n",
      "ERROR 10: Pointer 'hObject' is NULL in 'GDALGetMetadata'.\n",
      "\n",
      "ERROR 10: Pointer 'hObject' is NULL in 'GDALGetMetadata'.\n",
      "\n",
      "ERROR 10: Pointer 'hObject' is NULL in 'GDALGetMetadata'.\n",
      "\n",
      "ERROR 10: Pointer 'hObject' is NULL in 'GDALGetMetadata'.\n",
      "\n",
      "ERROR 10: Pointer 'hObject' is NULL in 'GDALGetMetadata'.\n",
      "\n",
      "ERROR 10: Pointer 'hObject' is NULL in 'GDALGetMetadata'.\n",
      "\n",
      "ERROR 10: Pointer 'hObject' is NULL in 'GDALGetMetadata'.\n",
      "\n",
      "ERROR 10: Pointer 'hObject' is NULL in 'GDALGetMetadata'.\n",
      "\n"
     ]
    },
    {
     "name": "stdout",
     "output_type": "stream",
     "text": [
      "[#############                           ] | 33% Completed | 177.30 sError processing median_8078.tif: j_begin (0) should be less than j_end (0) (0 < 0 is False)\n",
      "[#############                           ] | 34% Completed | 180.52 sError processing median_571.tif: j_begin (0) should be less than j_end (0) (0 < 0 is False)\n",
      "[#############                           ] | 34% Completed | 183.77 s"
     ]
    },
    {
     "name": "stderr",
     "output_type": "stream",
     "text": [
      "ERROR 10: Pointer 'hObject' is NULL in 'GDALGetMetadata'.\n",
      "\n",
      "ERROR 10: Pointer 'hObject' is NULL in 'GDALGetMetadata'.\n",
      "\n"
     ]
    },
    {
     "name": "stdout",
     "output_type": "stream",
     "text": [
      "[##############                          ] | 35% Completed | 184.22 s"
     ]
    },
    {
     "name": "stderr",
     "output_type": "stream",
     "text": [
      "ERROR 10: Pointer 'hObject' is NULL in 'GDALGetMetadata'.\n",
      "\n",
      "ERROR 10: Pointer 'hObject' is NULL in 'GDALGetMetadata'.\n",
      "\n",
      "ERROR 10: Pointer 'hObject' is NULL in 'GDALGetMetadata'.\n",
      "\n",
      "ERROR 10: Pointer 'hObject' is NULL in 'GDALGetMetadata'.\n",
      "\n",
      "ERROR 10: Pointer 'hObject' is NULL in 'GDALGetMetadata'.\n",
      "\n",
      "ERROR 10: Pointer 'hObject' is NULL in 'GDALGetMetadata'.\n",
      "\n",
      "ERROR 10: Pointer 'hObject' is NULL in 'GDALGetMetadata'.\n",
      "\n"
     ]
    },
    {
     "name": "stdout",
     "output_type": "stream",
     "text": [
      "[##############                          ] | 35% Completed | 186.00 sError processing median_1510.tif: j_begin (0) should be less than j_end (0) (0 < 0 is False)\n",
      "[##############                          ] | 36% Completed | 191.12 s"
     ]
    },
    {
     "name": "stderr",
     "output_type": "stream",
     "text": [
      "ERROR 10: Pointer 'hObject' is NULL in 'GDALGetMetadata'.\n",
      "\n",
      "ERROR 10: Pointer 'hObject' is NULL in 'GDALGetMetadata'.\n",
      "\n",
      "ERROR 10: Pointer 'hObject' is NULL in 'GDALGetMetadata'.\n",
      "\n",
      "ERROR 10: Pointer 'hObject' is NULL in 'GDALGetMetadata'.\n",
      "\n",
      "ERROR 10: Pointer 'hObject' is NULL in 'GDALGetMetadata'.\n",
      "\n",
      "ERROR 10: Pointer 'hObject' is NULL in 'GDALGetMetadata'.\n",
      "\n",
      "ERROR 10: Pointer 'hObject' is NULL in 'GDALGetMetadata'.\n",
      "\n",
      "ERROR 10: Pointer 'hObject' is NULL in 'GDALGetMetadata'.\n",
      "\n"
     ]
    },
    {
     "name": "stdout",
     "output_type": "stream",
     "text": [
      "[##############                          ] | 36% Completed | 191.42 s"
     ]
    },
    {
     "name": "stderr",
     "output_type": "stream",
     "text": [
      "ERROR 10: Pointer 'hObject' is NULL in 'GDALGetMetadata'.\n",
      "\n"
     ]
    },
    {
     "name": "stdout",
     "output_type": "stream",
     "text": [
      "[##############                          ] | 37% Completed | 194.76 sError processing median_12880.tif: j_begin (0) should be less than j_end (0) (0 < 0 is False)\n",
      "[##############                          ] | 37% Completed | 195.53 sError processing median_12374.tif: j_begin (0) should be less than j_end (0) (0 < 0 is False)\n",
      "[###############                         ] | 37% Completed | 198.40 s"
     ]
    },
    {
     "name": "stderr",
     "output_type": "stream",
     "text": [
      "ERROR 10: Pointer 'hObject' is NULL in 'GDALGetMetadata'.\n",
      "\n"
     ]
    },
    {
     "name": "stdout",
     "output_type": "stream",
     "text": [
      "[###############                         ] | 37% Completed | 198.94 s"
     ]
    },
    {
     "name": "stderr",
     "output_type": "stream",
     "text": [
      "ERROR 10: Pointer 'hObject' is NULL in 'GDALGetMetadata'.\n",
      "\n",
      "ERROR 10: Pointer 'hObject' is NULL in 'GDALGetMetadata'.\n",
      "\n",
      "ERROR 10: Pointer 'hObject' is NULL in 'GDALGetMetadata'.\n",
      "\n",
      "ERROR 10: Pointer 'hObject' is NULL in 'GDALGetMetadata'.\n",
      "\n",
      "ERROR 10: Pointer 'hObject' is NULL in 'GDALGetMetadata'.\n",
      "\n",
      "ERROR 10: Pointer 'hObject' is NULL in 'GDALGetMetadata'.\n",
      "\n",
      "ERROR 10: Pointer 'hObject' is NULL in 'GDALGetMetadata'.\n",
      "\n",
      "ERROR 10: Pointer 'hObject' is NULL in 'GDALGetMetadata'.\n",
      "\n"
     ]
    },
    {
     "name": "stdout",
     "output_type": "stream",
     "text": [
      "[###############                         ] | 37% Completed | 199.18 s"
     ]
    },
    {
     "name": "stderr",
     "output_type": "stream",
     "text": [
      "ERROR 10: Pointer 'hObject' is NULL in 'GDALGetMetadata'.\n",
      "\n",
      "ERROR 10: Pointer 'hObject' is NULL in 'GDALGetMetadata'.\n",
      "\n"
     ]
    },
    {
     "name": "stdout",
     "output_type": "stream",
     "text": [
      "[###############                         ] | 38% Completed | 200.80 sError processing median_3563.tif: i_begin (0) should be less than i_end (0) (0 < 0 is False)\n",
      "[###############                         ] | 39% Completed | 206.11 s"
     ]
    },
    {
     "name": "stderr",
     "output_type": "stream",
     "text": [
      "ERROR 10: Pointer 'hObject' is NULL in 'GDALGetMetadata'.\n",
      "\n",
      "ERROR 10: Pointer 'hObject' is NULL in 'GDALGetMetadata'.\n",
      "\n",
      "ERROR 10: Pointer 'hObject' is NULL in 'GDALGetMetadata'.\n",
      "\n",
      "ERROR 10: Pointer 'hObject' is NULL in 'GDALGetMetadata'.\n",
      "\n"
     ]
    },
    {
     "name": "stdout",
     "output_type": "stream",
     "text": [
      "[###############                         ] | 39% Completed | 206.22 s"
     ]
    },
    {
     "name": "stderr",
     "output_type": "stream",
     "text": [
      "ERROR 10: Pointer 'hObject' is NULL in 'GDALGetMetadata'.\n",
      "\n",
      "ERROR 10: Pointer 'hObject' is NULL in 'GDALGetMetadata'.\n",
      "\n",
      "ERROR 10: Pointer 'hObject' is NULL in 'GDALGetMetadata'.\n",
      "\n",
      "ERROR 10: Pointer 'hObject' is NULL in 'GDALGetMetadata'.\n",
      "\n",
      "ERROR 10: Pointer 'hObject' is NULL in 'GDALGetMetadata'.\n",
      "\n",
      "ERROR 10: Pointer 'hObject' is NULL in 'GDALGetMetadata'.\n",
      "\n",
      "ERROR 10: Pointer 'hObject' is NULL in 'GDALGetMetadata'.\n",
      "\n"
     ]
    },
    {
     "name": "stdout",
     "output_type": "stream",
     "text": [
      "[###############                         ] | 39% Completed | 208.25 sError processing median_597.tif: j_begin (0) should be less than j_end (0) (0 < 0 is False)\n",
      "[###############                         ] | 39% Completed | 209.21 sError processing median_8260.tif: i_begin (0) should be less than i_end (0) (0 < 0 is False)\n",
      "[################                        ] | 40% Completed | 214.65 s"
     ]
    },
    {
     "name": "stderr",
     "output_type": "stream",
     "text": [
      "ERROR 10: Pointer 'hObject' is NULL in 'GDALGetMetadata'.\n",
      "\n",
      "ERROR 10: Pointer 'hObject' is NULL in 'GDALGetMetadata'.\n",
      "\n",
      "ERROR 10: Pointer 'hObject' is NULL in 'GDALGetMetadata'.\n",
      "\n",
      "ERROR 10: Pointer 'hObject' is NULL in 'GDALGetMetadata'.\n",
      "\n",
      "ERROR 10: Pointer 'hObject' is NULL in 'GDALGetMetadata'.\n",
      "\n",
      "ERROR 10: Pointer 'hObject' is NULL in 'GDALGetMetadata'.\n",
      "\n",
      "ERROR 10: Pointer 'hObject' is NULL in 'GDALGetMetadata'.\n",
      "\n"
     ]
    },
    {
     "name": "stdout",
     "output_type": "stream",
     "text": [
      "[################                        ] | 40% Completed | 214.87 s"
     ]
    },
    {
     "name": "stderr",
     "output_type": "stream",
     "text": [
      "ERROR 10: Pointer 'hObject' is NULL in 'GDALGetMetadata'.\n",
      "\n",
      "ERROR 10: Pointer 'hObject' is NULL in 'GDALGetMetadata'.\n",
      "\n"
     ]
    },
    {
     "name": "stdout",
     "output_type": "stream",
     "text": [
      "[################                        ] | 42% Completed | 221.70 s"
     ]
    },
    {
     "name": "stderr",
     "output_type": "stream",
     "text": [
      "ERROR 10: Pointer 'hObject' is NULL in 'GDALGetMetadata'.\n",
      "\n",
      "ERROR 10: Pointer 'hObject' is NULL in 'GDALGetMetadata'.\n",
      "\n",
      "ERROR 10: Pointer 'hObject' is NULL in 'GDALGetMetadata'.\n",
      "\n",
      "ERROR 10: Pointer 'hObject' is NULL in 'GDALGetMetadata'.\n",
      "\n",
      "ERROR 10: Pointer 'hObject' is NULL in 'GDALGetMetadata'.\n",
      "\n",
      "ERROR 10: Pointer 'hObject' is NULL in 'GDALGetMetadata'.\n",
      "\n",
      "ERROR 10: Pointer 'hObject' is NULL in 'GDALGetMetadata'.\n",
      "\n"
     ]
    },
    {
     "name": "stdout",
     "output_type": "stream",
     "text": [
      "[################                        ] | 42% Completed | 221.95 s"
     ]
    },
    {
     "name": "stderr",
     "output_type": "stream",
     "text": [
      "ERROR 10: Pointer 'hObject' is NULL in 'GDALGetMetadata'.\n",
      "\n",
      "ERROR 10: Pointer 'hObject' is NULL in 'GDALGetMetadata'.\n",
      "\n"
     ]
    },
    {
     "name": "stdout",
     "output_type": "stream",
     "text": [
      "[#################                       ] | 43% Completed | 229.20 s"
     ]
    },
    {
     "name": "stderr",
     "output_type": "stream",
     "text": [
      "ERROR 10: Pointer 'hObject' is NULL in 'GDALGetMetadata'.\n",
      "\n"
     ]
    },
    {
     "name": "stdout",
     "output_type": "stream",
     "text": [
      "[#################                       ] | 43% Completed | 229.63 s"
     ]
    },
    {
     "name": "stderr",
     "output_type": "stream",
     "text": [
      "ERROR 10: Pointer 'hObject' is NULL in 'GDALGetMetadata'.\n",
      "\n",
      "ERROR 10: Pointer 'hObject' is NULL in 'GDALGetMetadata'.\n",
      "\n",
      "ERROR 10: Pointer 'hObject' is NULL in 'GDALGetMetadata'.\n",
      "\n",
      "ERROR 10: Pointer 'hObject' is NULL in 'GDALGetMetadata'.\n",
      "\n",
      "ERROR 10: Pointer 'hObject' is NULL in 'GDALGetMetadata'.\n",
      "\n"
     ]
    },
    {
     "name": "stdout",
     "output_type": "stream",
     "text": [
      "[#################                       ] | 43% Completed | 230.06 s"
     ]
    },
    {
     "name": "stderr",
     "output_type": "stream",
     "text": [
      "ERROR 10: Pointer 'hObject' is NULL in 'GDALGetMetadata'.\n",
      "\n",
      "ERROR 10: Pointer 'hObject' is NULL in 'GDALGetMetadata'.\n",
      "\n",
      "ERROR 10: Pointer 'hObject' is NULL in 'GDALGetMetadata'.\n",
      "\n",
      "ERROR 10: Pointer 'hObject' is NULL in 'GDALGetMetadata'.\n",
      "\n",
      "ERROR 10: Pointer 'hObject' is NULL in 'GDALGetMetadata'.\n",
      "\n",
      "ERROR 10: Pointer 'hObject' is NULL in 'GDALGetMetadata'.\n",
      "\n"
     ]
    },
    {
     "name": "stdout",
     "output_type": "stream",
     "text": [
      "[#################                       ] | 44% Completed | 232.07 sError processing median_3493.tif: j_begin (0) should be less than j_end (0) (0 < 0 is False)\n",
      "[#################                       ] | 44% Completed | 232.27 sError processing median_8539.tif: j_begin (0) should be less than j_end (0) (0 < 0 is False)\n",
      "[##################                      ] | 45% Completed | 236.60 sError processing median_16745.tif: i_begin (0) should be less than i_end (0) (0 < 0 is False)\n",
      "[##################                      ] | 45% Completed | 237.27 sError processing median_18401.tif: i_begin (0) should be less than i_end (0) (0 < 0 is False)\n",
      "[##################                      ] | 46% Completed | 244.15 s"
     ]
    },
    {
     "name": "stderr",
     "output_type": "stream",
     "text": [
      "ERROR 10: Pointer 'hObject' is NULL in 'GDALGetMetadata'.\n",
      "\n",
      "ERROR 10: Pointer 'hObject' is NULL in 'GDALGetMetadata'.\n",
      "\n",
      "ERROR 10: Pointer 'hObject' is NULL in 'GDALGetMetadata'.\n",
      "\n",
      "ERROR 10: Pointer 'hObject' is NULL in 'GDALGetMetadata'.\n",
      "\n",
      "ERROR 10: Pointer 'hObject' is NULL in 'GDALGetMetadata'.\n",
      "\n",
      "ERROR 10: Pointer 'hObject' is NULL in 'GDALGetMetadata'.\n",
      "\n",
      "ERROR 10: Pointer 'hObject' is NULL in 'GDALGetMetadata'.\n",
      "\n"
     ]
    },
    {
     "name": "stdout",
     "output_type": "stream",
     "text": [
      "[##################                      ] | 46% Completed | 244.42 s"
     ]
    },
    {
     "name": "stderr",
     "output_type": "stream",
     "text": [
      "ERROR 10: Pointer 'hObject' is NULL in 'GDALGetMetadata'.\n",
      "\n",
      "ERROR 10: Pointer 'hObject' is NULL in 'GDALGetMetadata'.\n",
      "\n",
      "ERROR 10: Pointer 'hObject' is NULL in 'GDALGetMetadata'.\n",
      "\n",
      "ERROR 10: Pointer 'hObject' is NULL in 'GDALGetMetadata'.\n",
      "\n",
      "ERROR 10: Pointer 'hObject' is NULL in 'GDALGetMetadata'.\n",
      "\n",
      "ERROR 10: Pointer 'hObject' is NULL in 'GDALGetMetadata'.\n",
      "\n",
      "ERROR 10: Pointer 'hObject' is NULL in 'GDALGetMetadata'.\n",
      "\n"
     ]
    },
    {
     "name": "stdout",
     "output_type": "stream",
     "text": [
      "[##################                      ] | 46% Completed | 244.77 s"
     ]
    },
    {
     "name": "stderr",
     "output_type": "stream",
     "text": [
      "ERROR 10: Pointer 'hObject' is NULL in 'GDALGetMetadata'.\n",
      "\n",
      "ERROR 10: Pointer 'hObject' is NULL in 'GDALGetMetadata'.\n",
      "\n"
     ]
    },
    {
     "name": "stdout",
     "output_type": "stream",
     "text": [
      "[##################                      ] | 46% Completed | 246.90 sError processing median_11503.tif: j_begin (0) should be less than j_end (0) (0 < 0 is False)\n",
      "[##################                      ] | 46% Completed | 247.21 sError processing median_13093.tif: i_begin (0) should be less than i_end (0) (0 < 0 is False)\n",
      "[###################                     ] | 48% Completed | 253.69 sError processing median_12218.tif: i_begin (0) should be less than i_end (0) (0 < 0 is False)\n",
      "[###################                     ] | 48% Completed | 255.08 sError processing median_8150.tif: j_begin (0) should be less than j_end (0) (0 < 0 is False)\n",
      "[###################                     ] | 49% Completed | 259.01 s"
     ]
    },
    {
     "name": "stderr",
     "output_type": "stream",
     "text": [
      "ERROR 10: Pointer 'hObject' is NULL in 'GDALGetMetadata'.\n",
      "\n",
      "ERROR 10: Pointer 'hObject' is NULL in 'GDALGetMetadata'.\n",
      "\n",
      "ERROR 10: Pointer 'hObject' is NULL in 'GDALGetMetadata'.\n",
      "\n",
      "ERROR 10: Pointer 'hObject' is NULL in 'GDALGetMetadata'.\n",
      "\n",
      "ERROR 10: Pointer 'hObject' is NULL in 'GDALGetMetadata'.\n",
      "\n",
      "ERROR 10: Pointer 'hObject' is NULL in 'GDALGetMetadata'.\n",
      "\n",
      "ERROR 10: Pointer 'hObject' is NULL in 'GDALGetMetadata'.\n",
      "\n",
      "ERROR 10: Pointer 'hObject' is NULL in 'GDALGetMetadata'.\n",
      "\n"
     ]
    },
    {
     "name": "stdout",
     "output_type": "stream",
     "text": [
      "[###################                     ] | 49% Completed | 259.15 s"
     ]
    },
    {
     "name": "stderr",
     "output_type": "stream",
     "text": [
      "ERROR 10: Pointer 'hObject' is NULL in 'GDALGetMetadata'.\n",
      "\n",
      "ERROR 10: Pointer 'hObject' is NULL in 'GDALGetMetadata'.\n",
      "\n",
      "ERROR 10: Pointer 'hObject' is NULL in 'GDALGetMetadata'.\n",
      "\n",
      "ERROR 10: Pointer 'hObject' is NULL in 'GDALGetMetadata'.\n",
      "\n",
      "ERROR 10: Pointer 'hObject' is NULL in 'GDALGetMetadata'.\n",
      "\n"
     ]
    },
    {
     "name": "stdout",
     "output_type": "stream",
     "text": [
      "[###################                     ] | 49% Completed | 259.29 sError processing median_4352.tif: i_begin (0) should be less than i_end (0) (0 < 0 is False)\n",
      "[###################                     ] | 49% Completed | 261.34 sError processing median_14667.tif: j_begin (0) should be less than j_end (0) (0 < 0 is False)\n",
      "[####################                    ] | 50% Completed | 265.10 sError processing median_14956.tif: j_begin (0) should be less than j_end (0) (0 < 0 is False)\n",
      "[####################                    ] | 50% Completed | 267.28 s"
     ]
    },
    {
     "name": "stderr",
     "output_type": "stream",
     "text": [
      "ERROR 10: Pointer 'hObject' is NULL in 'GDALGetMetadata'.\n",
      "\n",
      "ERROR 10: Pointer 'hObject' is NULL in 'GDALGetMetadata'.\n",
      "\n",
      "ERROR 10: Pointer 'hObject' is NULL in 'GDALGetMetadata'.\n",
      "\n",
      "ERROR 10: Pointer 'hObject' is NULL in 'GDALGetMetadata'.\n",
      "\n",
      "ERROR 10: Pointer 'hObject' is NULL in 'GDALGetMetadata'.\n",
      "\n"
     ]
    },
    {
     "name": "stdout",
     "output_type": "stream",
     "text": [
      "[####################                    ] | 50% Completed | 267.77 s"
     ]
    },
    {
     "name": "stderr",
     "output_type": "stream",
     "text": [
      "ERROR 10: Pointer 'hObject' is NULL in 'GDALGetMetadata'.\n",
      "\n",
      "ERROR 10: Pointer 'hObject' is NULL in 'GDALGetMetadata'.\n",
      "\n",
      "ERROR 10: Pointer 'hObject' is NULL in 'GDALGetMetadata'.\n",
      "\n",
      "ERROR 10: Pointer 'hObject' is NULL in 'GDALGetMetadata'.\n",
      "\n"
     ]
    },
    {
     "name": "stdout",
     "output_type": "stream",
     "text": [
      "[####################                    ] | 50% Completed | 268.00 sError processing median_1147.tif: i_begin (0) should be less than i_end (0) (0 < 0 is False)\n",
      "[####################                    ] | 52% Completed | 275.25 s"
     ]
    },
    {
     "name": "stderr",
     "output_type": "stream",
     "text": [
      "ERROR 10: Pointer 'hObject' is NULL in 'GDALGetMetadata'.\n",
      "\n"
     ]
    },
    {
     "name": "stdout",
     "output_type": "stream",
     "text": [
      "[####################                    ] | 52% Completed | 275.79 sError processing median_4714.tif: j_begin (0) should be less than j_end (0) (0 < 0 is False)\n",
      "[####################                    ] | 52% Completed | 277.12 sError processing median_13753.tif: i_begin (0) should be less than i_end (0) (0 < 0 is False)\n",
      "[#####################                   ] | 52% Completed | 277.64 sError processing median_14167.tif: i_begin (0) should be less than i_end (0) (0 < 0 is False)\n",
      "[#####################                   ] | 52% Completed | 278.67 sError processing median_7275.tif: j_begin (0) should be less than j_end (0) (0 < 0 is False)\n",
      "[#####################                   ] | 52% Completed | 279.29 sError processing median_5744.tif: j_begin (0) should be less than j_end (0) (0 < 0 is False)\n",
      "[#####################                   ] | 54% Completed | 290.19 sError processing median_2446.tif: i_begin (0) should be less than i_end (0) (0 < 0 is False)\n",
      "[######################                  ] | 55% Completed | 292.95 s"
     ]
    },
    {
     "name": "stderr",
     "output_type": "stream",
     "text": [
      "ERROR 10: Pointer 'hObject' is NULL in 'GDALGetMetadata'.\n",
      "\n",
      "ERROR 10: Pointer 'hObject' is NULL in 'GDALGetMetadata'.\n",
      "\n",
      "ERROR 10: Pointer 'hObject' is NULL in 'GDALGetMetadata'.\n",
      "\n"
     ]
    },
    {
     "name": "stdout",
     "output_type": "stream",
     "text": [
      "[######################                  ] | 55% Completed | 295.31 sError processing median_12973.tif: i_begin (0) should be less than i_end (0) (0 < 0 is False)\n",
      "[######################                  ] | 55% Completed | 295.90 sError processing median_13048.tif: j_begin (0) should be less than j_end (0) (0 < 0 is False)\n",
      "[######################                  ] | 56% Completed | 299.74 sError processing median_11019.tif: i_begin (0) should be less than i_end (0) (0 < 0 is False)\n",
      "[######################                  ] | 56% Completed | 300.36 s"
     ]
    },
    {
     "name": "stderr",
     "output_type": "stream",
     "text": [
      "ERROR 10: Pointer 'hObject' is NULL in 'GDALGetMetadata'.\n",
      "\n",
      "ERROR 10: Pointer 'hObject' is NULL in 'GDALGetMetadata'.\n",
      "\n"
     ]
    },
    {
     "name": "stdout",
     "output_type": "stream",
     "text": [
      "[######################                  ] | 56% Completed | 300.48 sError processing median_4789.tif: i_begin (0) should be less than i_end (0) (0 < 0 is False)\n",
      "[#######################                 ] | 57% Completed | 306.86 sError processing median_12507.tif: i_begin (0) should be less than i_end (0) (0 < 0 is False)\n",
      "[#######################                 ] | 57% Completed | 308.02 s"
     ]
    },
    {
     "name": "stderr",
     "output_type": "stream",
     "text": [
      "ERROR 10: Pointer 'hObject' is NULL in 'GDALGetMetadata'.\n",
      "\n",
      "ERROR 10: Pointer 'hObject' is NULL in 'GDALGetMetadata'.\n",
      "\n",
      "ERROR 10: Pointer 'hObject' is NULL in 'GDALGetMetadata'.\n",
      "\n",
      "ERROR 10: Pointer 'hObject' is NULL in 'GDALGetMetadata'.\n",
      "\n",
      "ERROR 10: Pointer 'hObject' is NULL in 'GDALGetMetadata'.\n",
      "\n",
      "ERROR 10: Pointer 'hObject' is NULL in 'GDALGetMetadata'.\n",
      "\n"
     ]
    },
    {
     "name": "stdout",
     "output_type": "stream",
     "text": [
      "[#######################                 ] | 58% Completed | 310.28 sError processing median_5249.tif: j_begin (0) should be less than j_end (0) (0 < 0 is False)\n",
      "[#######################                 ] | 59% Completed | 316.05 s"
     ]
    },
    {
     "name": "stderr",
     "output_type": "stream",
     "text": [
      "ERROR 10: Pointer 'hObject' is NULL in 'GDALGetMetadata'.\n",
      "\n",
      "ERROR 10: Pointer 'hObject' is NULL in 'GDALGetMetadata'.\n",
      "\n",
      "ERROR 10: Pointer 'hObject' is NULL in 'GDALGetMetadata'.\n",
      "\n",
      "ERROR 10: Pointer 'hObject' is NULL in 'GDALGetMetadata'.\n",
      "\n",
      "ERROR 10: Pointer 'hObject' is NULL in 'GDALGetMetadata'.\n",
      "\n",
      "ERROR 10: Pointer 'hObject' is NULL in 'GDALGetMetadata'.\n",
      "\n"
     ]
    },
    {
     "name": "stdout",
     "output_type": "stream",
     "text": [
      "Error processing median_18598.tif: j_begin (0) should be less than j_end (0) (0 < 0 is False)\n",
      "[#######################                 ] | 59% Completed | 319.48 sError processing median_12453.tif: j_begin (0) should be less than j_end (0) (0 < 0 is False)\n",
      "[########################                ] | 60% Completed | 319.90 sError processing median_12615.tif: j_begin (0) should be less than j_end (0) (0 < 0 is False)\n",
      "[########################                ] | 60% Completed | 323.55 s"
     ]
    },
    {
     "name": "stderr",
     "output_type": "stream",
     "text": [
      "ERROR 10: Pointer 'hObject' is NULL in 'GDALGetMetadata'.\n",
      "\n",
      "ERROR 10: Pointer 'hObject' is NULL in 'GDALGetMetadata'.\n",
      "\n",
      "ERROR 10: Pointer 'hObject' is NULL in 'GDALGetMetadata'.\n",
      "\n"
     ]
    },
    {
     "name": "stdout",
     "output_type": "stream",
     "text": [
      "[########################                ] | 60% Completed | 323.81 s"
     ]
    },
    {
     "name": "stderr",
     "output_type": "stream",
     "text": [
      "ERROR 10: Pointer 'hObject' is NULL in 'GDALGetMetadata'.\n",
      "\n",
      "ERROR 10: Pointer 'hObject' is NULL in 'GDALGetMetadata'.\n",
      "\n",
      "ERROR 10: Pointer 'hObject' is NULL in 'GDALGetMetadata'.\n",
      "\n",
      "ERROR 10: Pointer 'hObject' is NULL in 'GDALGetMetadata'.\n",
      "\n"
     ]
    },
    {
     "name": "stdout",
     "output_type": "stream",
     "text": [
      "[########################                ] | 60% Completed | 324.15 s"
     ]
    },
    {
     "name": "stderr",
     "output_type": "stream",
     "text": [
      "ERROR 10: Pointer 'hObject' is NULL in 'GDALGetMetadata'.\n",
      "\n",
      "ERROR 10: Pointer 'hObject' is NULL in 'GDALGetMetadata'.\n",
      "\n",
      "ERROR 10: Pointer 'hObject' is NULL in 'GDALGetMetadata'.\n",
      "\n"
     ]
    },
    {
     "name": "stdout",
     "output_type": "stream",
     "text": [
      "[########################                ] | 61% Completed | 326.74 sError processing median_4943.tif: j_begin (0) should be less than j_end (0) (0 < 0 is False)\n",
      "[########################                ] | 61% Completed | 327.42 sError processing median_8120.tif: i_begin (0) should be less than i_end (0) (0 < 0 is False)\n",
      "[########################                ] | 61% Completed | 330.23 sError processing median_8152.tif: i_begin (0) should be less than i_end (0) (0 < 0 is False)\n",
      "[########################                ] | 62% Completed | 331.45 s"
     ]
    },
    {
     "name": "stderr",
     "output_type": "stream",
     "text": [
      "ERROR 10: Pointer 'hObject' is NULL in 'GDALGetMetadata'.\n",
      "\n",
      "ERROR 10: Pointer 'hObject' is NULL in 'GDALGetMetadata'.\n",
      "\n",
      "ERROR 10: Pointer 'hObject' is NULL in 'GDALGetMetadata'.\n",
      "\n",
      "ERROR 10: Pointer 'hObject' is NULL in 'GDALGetMetadata'.\n",
      "\n"
     ]
    },
    {
     "name": "stdout",
     "output_type": "stream",
     "text": [
      "[########################                ] | 62% Completed | 331.92 s"
     ]
    },
    {
     "name": "stderr",
     "output_type": "stream",
     "text": [
      "ERROR 10: Pointer 'hObject' is NULL in 'GDALGetMetadata'.\n",
      "\n",
      "ERROR 10: Pointer 'hObject' is NULL in 'GDALGetMetadata'.\n",
      "\n",
      "ERROR 10: Pointer 'hObject' is NULL in 'GDALGetMetadata'.\n",
      "\n",
      "ERROR 10: Pointer 'hObject' is NULL in 'GDALGetMetadata'.\n",
      "\n",
      "ERROR 10: Pointer 'hObject' is NULL in 'GDALGetMetadata'.\n",
      "\n"
     ]
    },
    {
     "name": "stdout",
     "output_type": "stream",
     "text": [
      "[########################                ] | 62% Completed | 332.14 s"
     ]
    },
    {
     "name": "stderr",
     "output_type": "stream",
     "text": [
      "ERROR 10: Pointer 'hObject' is NULL in 'GDALGetMetadata'.\n",
      "\n",
      "ERROR 10: Pointer 'hObject' is NULL in 'GDALGetMetadata'.\n",
      "\n"
     ]
    },
    {
     "name": "stdout",
     "output_type": "stream",
     "text": [
      "[#########################               ] | 62% Completed | 333.92 sError processing median_13156.tif: i_begin (0) should be less than i_end (0) (0 < 0 is False)\n",
      "[#########################               ] | 63% Completed | 341.22 s"
     ]
    },
    {
     "name": "stderr",
     "output_type": "stream",
     "text": [
      "ERROR 10: Pointer 'hObject' is NULL in 'GDALGetMetadata'.\n",
      "\n",
      "ERROR 10: Pointer 'hObject' is NULL in 'GDALGetMetadata'.\n",
      "\n",
      "ERROR 10: Pointer 'hObject' is NULL in 'GDALGetMetadata'.\n",
      "\n",
      "ERROR 10: Pointer 'hObject' is NULL in 'GDALGetMetadata'.\n",
      "\n",
      "ERROR 10: Pointer 'hObject' is NULL in 'GDALGetMetadata'.\n",
      "\n",
      "ERROR 10: Pointer 'hObject' is NULL in 'GDALGetMetadata'.\n",
      "\n",
      "ERROR 10: Pointer 'hObject' is NULL in 'GDALGetMetadata'.\n",
      "\n"
     ]
    },
    {
     "name": "stdout",
     "output_type": "stream",
     "text": [
      "[#########################               ] | 63% Completed | 341.44 s"
     ]
    },
    {
     "name": "stderr",
     "output_type": "stream",
     "text": [
      "ERROR 10: Pointer 'hObject' is NULL in 'GDALGetMetadata'.\n",
      "\n"
     ]
    },
    {
     "name": "stdout",
     "output_type": "stream",
     "text": [
      "[##########################              ] | 65% Completed | 349.26 sError processing median_5672.tif: i_begin (0) should be less than i_end (0) (0 < 0 is False)\n",
      "[##########################              ] | 65% Completed | 350.08 s"
     ]
    },
    {
     "name": "stderr",
     "output_type": "stream",
     "text": [
      "ERROR 10: Pointer 'hObject' is NULL in 'GDALGetMetadata'.\n",
      "\n",
      "ERROR 10: Pointer 'hObject' is NULL in 'GDALGetMetadata'.\n",
      "\n"
     ]
    },
    {
     "name": "stdout",
     "output_type": "stream",
     "text": [
      "[##########################              ] | 65% Completed | 352.04 sError processing median_9830.tif: j_begin (0) should be less than j_end (0) (0 < 0 is False)\n",
      "[##########################              ] | 65% Completed | 352.72 sError processing median_8043.tif: j_begin (0) should be less than j_end (0) (0 < 0 is False)\n",
      "[##########################              ] | 65% Completed | 355.71 sError processing median_12797.tif: j_begin (0) should be less than j_end (0) (0 < 0 is False)\n",
      "[###########################             ] | 69% Completed | 375.67 sError processing median_4136.tif: j_begin (0) should be less than j_end (0) (0 < 0 is False)\n",
      "[############################            ] | 70% Completed | 387.55 s"
     ]
    },
    {
     "name": "stderr",
     "output_type": "stream",
     "text": [
      "ERROR 10: Pointer 'hObject' is NULL in 'GDALGetMetadata'.\n",
      "\n",
      "ERROR 10: Pointer 'hObject' is NULL in 'GDALGetMetadata'.\n",
      "\n"
     ]
    },
    {
     "name": "stdout",
     "output_type": "stream",
     "text": [
      "[############################            ] | 70% Completed | 387.78 s"
     ]
    },
    {
     "name": "stderr",
     "output_type": "stream",
     "text": [
      "ERROR 10: Pointer 'hObject' is NULL in 'GDALGetMetadata'.\n",
      "\n"
     ]
    },
    {
     "name": "stdout",
     "output_type": "stream",
     "text": [
      "[############################            ] | 70% Completed | 387.92 sError processing median_702.tif: i_begin (0) should be less than i_end (0) (0 < 0 is False)\n",
      "[############################            ] | 71% Completed | 394.68 sError processing median_9788.tif: i_begin (0) should be less than i_end (0) (0 < 0 is False)\n",
      "[############################            ] | 71% Completed | 397.61 sError processing median_13243.tif: j_begin (0) should be less than j_end (0) (0 < 0 is False)\n",
      "[#############################           ] | 72% Completed | 403.28 sError processing median_18770.tif: j_begin (0) should be less than j_end (0) (0 < 0 is False)\n",
      "[#############################           ] | 73% Completed | 406.23 sError processing median_9186.tif: j_begin (0) should be less than j_end (0) (0 < 0 is False)\n",
      "[#############################           ] | 73% Completed | 407.72 s"
     ]
    },
    {
     "name": "stderr",
     "output_type": "stream",
     "text": [
      "ERROR 10: Pointer 'hObject' is NULL in 'GDALGetMetadata'.\n",
      "\n",
      "ERROR 10: Pointer 'hObject' is NULL in 'GDALGetMetadata'.\n",
      "\n"
     ]
    },
    {
     "name": "stdout",
     "output_type": "stream",
     "text": [
      "[#############################           ] | 73% Completed | 408.94 sError processing median_709.tif: i_begin (0) should be less than i_end (0) (0 < 0 is False)\n",
      "[#############################           ] | 73% Completed | 409.83 sError processing median_4436.tif: i_begin (0) should be less than i_end (0) (0 < 0 is False)\n",
      "[#############################           ] | 74% Completed | 414.76 sError processing median_6326.tif: i_begin (0) should be less than i_end (0) (0 < 0 is False)\n",
      "[##############################          ] | 75% Completed | 417.47 sError processing median_16552.tif: j_begin (0) should be less than j_end (0) (0 < 0 is False)\n",
      "[##############################          ] | 76% Completed | 420.71 sError processing median_78.tif: j_begin (0) should be less than j_end (0) (0 < 0 is False)\n",
      "[##############################          ] | 77% Completed | 426.76 sError processing median_14769.tif: i_begin (0) should be less than i_end (0) (0 < 0 is False)\n",
      "[###############################         ] | 78% Completed | 434.81 sError processing median_10274.tif: i_begin (0) should be less than i_end (0) (0 < 0 is False)\n",
      "[###############################         ] | 78% Completed | 439.55 sError processing median_9473.tif: j_begin (0) should be less than j_end (0) (0 < 0 is False)\n",
      "[###############################         ] | 79% Completed | 443.74 sError processing median_5136.tif: i_begin (0) should be less than i_end (0) (0 < 0 is False)\n",
      "[################################        ] | 80% Completed | 448.85 sError processing median_13076.tif: i_begin (0) should be less than i_end (0) (0 < 0 is False)\n",
      "[################################        ] | 82% Completed | 457.45 sError processing median_749.tif: i_begin (0) should be less than i_end (0) (0 < 0 is False)\n",
      "[#################################       ] | 82% Completed | 461.35 sError processing median_8122.tif: j_begin (0) should be less than j_end (0) (0 < 0 is False)\n",
      "[#################################       ] | 84% Completed | 468.25 s"
     ]
    },
    {
     "name": "stderr",
     "output_type": "stream",
     "text": [
      "ERROR 10: Pointer 'hObject' is NULL in 'GDALGetMetadata'.\n",
      "\n",
      "ERROR 10: Pointer 'hObject' is NULL in 'GDALGetMetadata'.\n",
      "\n",
      "ERROR 10: Pointer 'hObject' is NULL in 'GDALGetMetadata'.\n",
      "\n",
      "ERROR 10: Pointer 'hObject' is NULL in 'GDALGetMetadata'.\n",
      "\n",
      "ERROR 10: Pointer 'hObject' is NULL in 'GDALGetMetadata'.\n",
      "\n"
     ]
    },
    {
     "name": "stdout",
     "output_type": "stream",
     "text": [
      "[#################################       ] | 84% Completed | 468.51 sError processing median_11986.tif: j_begin (0) should be less than j_end (0) (0 < 0 is False)\n"
     ]
    },
    {
     "name": "stderr",
     "output_type": "stream",
     "text": [
      "ERROR 10: Pointer 'hObject' is NULL in 'GDALGetMetadata'.\n",
      "\n",
      "ERROR 10: Pointer 'hObject' is NULL in 'GDALGetMetadata'.\n",
      "\n",
      "ERROR 10: Pointer 'hObject' is NULL in 'GDALGetMetadata'.\n",
      "\n",
      "ERROR 10: Pointer 'hObject' is NULL in 'GDALGetMetadata'.\n",
      "\n",
      "ERROR 10: Pointer 'hObject' is NULL in 'GDALGetMetadata'.\n",
      "\n"
     ]
    },
    {
     "name": "stdout",
     "output_type": "stream",
     "text": [
      "[#################################       ] | 84% Completed | 470.32 sError processing median_10352.tif: j_begin (0) should be less than j_end (0) (0 < 0 is False)\n",
      "[#################################       ] | 84% Completed | 473.44 sError processing median_3004.tif: j_begin (0) should be less than j_end (0) (0 < 0 is False)\n",
      "[##################################      ] | 85% Completed | 474.89 sError processing median_16830.tif: i_begin (0) should be less than i_end (0) (0 < 0 is False)\n",
      "[##################################      ] | 85% Completed | 475.27 sError processing median_7013.tif: j_begin (0) should be less than j_end (0) (0 < 0 is False)\n",
      "[##################################      ] | 85% Completed | 475.82 sError processing median_7288.tif: j_begin (0) should be less than j_end (0) (0 < 0 is False)\n",
      "[##################################      ] | 86% Completed | 484.71 sError processing median_10867.tif: i_begin (0) should be less than i_end (0) (0 < 0 is False)\n",
      "[##################################      ] | 86% Completed | 485.01 sError processing median_75.tif: i_begin (0) should be less than i_end (0) (0 < 0 is False)\n",
      "[##################################      ] | 86% Completed | 486.59 s"
     ]
    },
    {
     "name": "stderr",
     "output_type": "stream",
     "text": [
      "ERROR 10: Pointer 'hObject' is NULL in 'GDALGetMetadata'.\n",
      "\n"
     ]
    },
    {
     "name": "stdout",
     "output_type": "stream",
     "text": [
      "[##################################      ] | 86% Completed | 486.91 s"
     ]
    },
    {
     "name": "stderr",
     "output_type": "stream",
     "text": [
      "ERROR 10: Pointer 'hObject' is NULL in 'GDALGetMetadata'.\n",
      "\n",
      "ERROR 10: Pointer 'hObject' is NULL in 'GDALGetMetadata'.\n",
      "\n",
      "ERROR 10: Pointer 'hObject' is NULL in 'GDALGetMetadata'.\n",
      "\n",
      "ERROR 10: Pointer 'hObject' is NULL in 'GDALGetMetadata'.\n",
      "\n"
     ]
    },
    {
     "name": "stdout",
     "output_type": "stream",
     "text": [
      "[##################################      ] | 86% Completed | 487.39 s"
     ]
    },
    {
     "name": "stderr",
     "output_type": "stream",
     "text": [
      "ERROR 10: Pointer 'hObject' is NULL in 'GDALGetMetadata'.\n",
      "\n",
      "ERROR 10: Pointer 'hObject' is NULL in 'GDALGetMetadata'.\n",
      "\n",
      "ERROR 10: Pointer 'hObject' is NULL in 'GDALGetMetadata'.\n",
      "\n",
      "ERROR 10: Pointer 'hObject' is NULL in 'GDALGetMetadata'.\n",
      "\n"
     ]
    },
    {
     "name": "stdout",
     "output_type": "stream",
     "text": [
      "[##################################      ] | 87% Completed | 488.88 sError processing median_13277.tif: j_begin (0) should be less than j_end (0) (0 < 0 is False)\n",
      "[###################################     ] | 87% Completed | 491.21 sError processing median_16716.tif: i_begin (0) should be less than i_end (0) (0 < 0 is False)\n",
      "[###################################     ] | 87% Completed | 491.76 sError processing median_11121.tif: i_begin (0) should be less than i_end (0) (0 < 0 is False)\n",
      "[###################################     ] | 88% Completed | 496.23 sError processing median_3866.tif: i_begin (0) should be less than i_end (0) (0 < 0 is False)\n",
      "[###################################     ] | 88% Completed | 497.99 sError processing median_10969.tif: i_begin (0) should be less than i_end (0) (0 < 0 is False)\n",
      "[###################################     ] | 88% Completed | 499.28 sError processing median_8990.tif: i_begin (0) should be less than i_end (0) (0 < 0 is False)\n",
      "[####################################    ] | 91% Completed | 510.81 s"
     ]
    },
    {
     "name": "stderr",
     "output_type": "stream",
     "text": [
      "ERROR 10: Pointer 'hObject' is NULL in 'GDALGetMetadata'.\n",
      "\n",
      "ERROR 10: Pointer 'hObject' is NULL in 'GDALGetMetadata'.\n",
      "\n",
      "ERROR 10: Pointer 'hObject' is NULL in 'GDALGetMetadata'.\n",
      "\n",
      "ERROR 10: Pointer 'hObject' is NULL in 'GDALGetMetadata'.\n",
      "\n",
      "ERROR 10: Pointer 'hObject' is NULL in 'GDALGetMetadata'.\n",
      "\n",
      "ERROR 10: Pointer 'hObject' is NULL in 'GDALGetMetadata'.\n",
      "\n",
      "ERROR 10: Pointer 'hObject' is NULL in 'GDALGetMetadata'.\n",
      "\n",
      "ERROR 10: Pointer 'hObject' is NULL in 'GDALGetMetadata'.\n",
      "\n",
      "ERROR 10: Pointer 'hObject' is NULL in 'GDALGetMetadata'.\n",
      "\n"
     ]
    },
    {
     "name": "stdout",
     "output_type": "stream",
     "text": [
      "[####################################    ] | 91% Completed | 510.92 s"
     ]
    },
    {
     "name": "stderr",
     "output_type": "stream",
     "text": [
      "ERROR 10: Pointer 'hObject' is NULL in 'GDALGetMetadata'.\n",
      "\n",
      "ERROR 10: Pointer 'hObject' is NULL in 'GDALGetMetadata'.\n",
      "\n",
      "ERROR 10: Pointer 'hObject' is NULL in 'GDALGetMetadata'.\n",
      "\n",
      "ERROR 10: Pointer 'hObject' is NULL in 'GDALGetMetadata'.\n",
      "\n",
      "ERROR 10: Pointer 'hObject' is NULL in 'GDALGetMetadata'.\n",
      "\n",
      "ERROR 10: Pointer 'hObject' is NULL in 'GDALGetMetadata'.\n",
      "\n",
      "ERROR 10: Pointer 'hObject' is NULL in 'GDALGetMetadata'.\n",
      "\n"
     ]
    },
    {
     "name": "stdout",
     "output_type": "stream",
     "text": [
      "[####################################    ] | 91% Completed | 511.34 s"
     ]
    },
    {
     "name": "stderr",
     "output_type": "stream",
     "text": [
      "ERROR 10: Pointer 'hObject' is NULL in 'GDALGetMetadata'.\n",
      "\n"
     ]
    },
    {
     "name": "stdout",
     "output_type": "stream",
     "text": [
      "[#####################################   ] | 92% Completed | 519.53 s"
     ]
    },
    {
     "name": "stderr",
     "output_type": "stream",
     "text": [
      "ERROR 10: Pointer 'hObject' is NULL in 'GDALGetMetadata'.\n",
      "\n",
      "ERROR 10: Pointer 'hObject' is NULL in 'GDALGetMetadata'.\n",
      "\n",
      "ERROR 10: Pointer 'hObject' is NULL in 'GDALGetMetadata'.\n",
      "\n",
      "ERROR 10: Pointer 'hObject' is NULL in 'GDALGetMetadata'.\n",
      "\n",
      "ERROR 10: Pointer 'hObject' is NULL in 'GDALGetMetadata'.\n",
      "\n",
      "ERROR 10: Pointer 'hObject' is NULL in 'GDALGetMetadata'.\n",
      "\n",
      "ERROR 10: Pointer 'hObject' is NULL in 'GDALGetMetadata'.\n",
      "\n",
      "ERROR 10: Pointer 'hObject' is NULL in 'GDALGetMetadata'.\n",
      "\n",
      "ERROR 10: Pointer 'hObject' is NULL in 'GDALGetMetadata'.\n",
      "\n",
      "ERROR 10: Pointer 'hObject' is NULL in 'GDALGetMetadata'.\n",
      "\n",
      "ERROR 10: Pointer 'hObject' is NULL in 'GDALGetMetadata'.\n",
      "\n"
     ]
    },
    {
     "name": "stdout",
     "output_type": "stream",
     "text": [
      "[#####################################   ] | 92% Completed | 519.89 s"
     ]
    },
    {
     "name": "stderr",
     "output_type": "stream",
     "text": [
      "ERROR 10: Pointer 'hObject' is NULL in 'GDALGetMetadata'.\n",
      "\n",
      "ERROR 10: Pointer 'hObject' is NULL in 'GDALGetMetadata'.\n",
      "\n",
      "ERROR 10: Pointer 'hObject' is NULL in 'GDALGetMetadata'.\n",
      "\n"
     ]
    },
    {
     "name": "stdout",
     "output_type": "stream",
     "text": [
      "[#####################################   ] | 94% Completed | 527.16 sError processing median_6848.tif: i_begin (0) should be less than i_end (0) (0 < 0 is False)\n",
      "[#####################################   ] | 94% Completed | 528.42 s"
     ]
    },
    {
     "name": "stderr",
     "output_type": "stream",
     "text": [
      "ERROR 10: Pointer 'hObject' is NULL in 'GDALGetMetadata'.\n",
      "\n"
     ]
    },
    {
     "name": "stdout",
     "output_type": "stream",
     "text": [
      "[#####################################   ] | 94% Completed | 528.65 s"
     ]
    },
    {
     "name": "stderr",
     "output_type": "stream",
     "text": [
      "ERROR 10: Pointer 'hObject' is NULL in 'GDALGetMetadata'.\n",
      "\n",
      "ERROR 10: Pointer 'hObject' is NULL in 'GDALGetMetadata'.\n",
      "\n",
      "ERROR 10: Pointer 'hObject' is NULL in 'GDALGetMetadata'.\n",
      "\n",
      "ERROR 10: Pointer 'hObject' is NULL in 'GDALGetMetadata'.\n",
      "\n",
      "ERROR 10: Pointer 'hObject' is NULL in 'GDALGetMetadata'.\n",
      "\n",
      "ERROR 10: Pointer 'hObject' is NULL in 'GDALGetMetadata'.\n",
      "\n",
      "ERROR 10: Pointer 'hObject' is NULL in 'GDALGetMetadata'.\n",
      "\n",
      "ERROR 10: Pointer 'hObject' is NULL in 'GDALGetMetadata'.\n",
      "\n",
      "ERROR 10: Pointer 'hObject' is NULL in 'GDALGetMetadata'.\n",
      "\n",
      "ERROR 10: Pointer 'hObject' is NULL in 'GDALGetMetadata'.\n",
      "\n"
     ]
    },
    {
     "name": "stdout",
     "output_type": "stream",
     "text": [
      "[#####################################   ] | 94% Completed | 528.76 s"
     ]
    },
    {
     "name": "stderr",
     "output_type": "stream",
     "text": [
      "ERROR 10: Pointer 'hObject' is NULL in 'GDALGetMetadata'.\n",
      "\n",
      "ERROR 10: Pointer 'hObject' is NULL in 'GDALGetMetadata'.\n",
      "\n",
      "ERROR 10: Pointer 'hObject' is NULL in 'GDALGetMetadata'.\n",
      "\n"
     ]
    },
    {
     "name": "stdout",
     "output_type": "stream",
     "text": [
      "[#####################################   ] | 94% Completed | 529.19 s"
     ]
    },
    {
     "name": "stderr",
     "output_type": "stream",
     "text": [
      "ERROR 10: Pointer 'hObject' is NULL in 'GDALGetMetadata'.\n",
      "\n"
     ]
    },
    {
     "name": "stdout",
     "output_type": "stream",
     "text": [
      "[#####################################   ] | 94% Completed | 533.20 sError processing median_256.tif: i_begin (0) should be less than i_end (0) (0 < 0 is False)\n",
      "[######################################  ] | 95% Completed | 534.08 sError processing median_5514.tif: i_begin (0) should be less than i_end (0) (0 < 0 is False)\n",
      "[######################################  ] | 95% Completed | 537.00 s"
     ]
    },
    {
     "name": "stderr",
     "output_type": "stream",
     "text": [
      "ERROR 10: Pointer 'hObject' is NULL in 'GDALGetMetadata'.\n",
      "\n",
      "ERROR 10: Pointer 'hObject' is NULL in 'GDALGetMetadata'.\n",
      "\n",
      "ERROR 10: Pointer 'hObject' is NULL in 'GDALGetMetadata'.\n",
      "\n",
      "ERROR 10: Pointer 'hObject' is NULL in 'GDALGetMetadata'.\n",
      "\n"
     ]
    },
    {
     "name": "stdout",
     "output_type": "stream",
     "text": [
      "[######################################  ] | 95% Completed | 537.39 s"
     ]
    },
    {
     "name": "stderr",
     "output_type": "stream",
     "text": [
      "ERROR 10: Pointer 'hObject' is NULL in 'GDALGetMetadata'.\n",
      "\n",
      "ERROR 10: Pointer 'hObject' is NULL in 'GDALGetMetadata'.\n",
      "\n",
      "ERROR 10: Pointer 'hObject' is NULL in 'GDALGetMetadata'.\n",
      "\n",
      "ERROR 10: Pointer 'hObject' is NULL in 'GDALGetMetadata'.\n",
      "\n",
      "ERROR 10: Pointer 'hObject' is NULL in 'GDALGetMetadata'.\n",
      "\n",
      "ERROR 10: Pointer 'hObject' is NULL in 'GDALGetMetadata'.\n",
      "\n"
     ]
    },
    {
     "name": "stdout",
     "output_type": "stream",
     "text": [
      "[######################################  ] | 96% Completed | 538.93 sError processing median_2589.tif: j_begin (0) should be less than j_end (0) (0 < 0 is False)\n",
      "[######################################  ] | 96% Completed | 543.24 sError processing median_79.tif: j_begin (0) should be less than j_end (0) (0 < 0 is False)\n",
      "[######################################  ] | 97% Completed | 544.85 sError processing median_12236.tif: i_begin (0) should be less than i_end (0) (0 < 0 is False)\n",
      "[####################################### ] | 97% Completed | 547.12 sError processing median_17.tif: i_begin (0) should be less than i_end (0) (0 < 0 is False)\n",
      "[####################################### ] | 99% Completed | 560.70 sError processing median_7382.tif: j_begin (0) should be less than j_end (0) (0 < 0 is False)\n",
      "[########################################] | 100% Completed | 561.45 s\n"
     ]
    }
   ],
   "source": [
    "import os\n",
    "import numpy as np\n",
    "import rioxarray\n",
    "import dask\n",
    "from dask.diagnostics import ProgressBar\n",
    "from MightyMosaic import MightyMosaic\n",
    "\n",
    "# Check if all elements in a matrix are zero\n",
    "def is_matrix_all_zeros(matrix):\n",
    "    np_matrix = np.array(matrix)\n",
    "    return np.all(np_matrix == 0)\n",
    "\n",
    "# Input and output paths\n",
    "in_path = '/explore/nobackup/people/spotter5/cnn_mapping/Russia/anna_monthly_ndsi'\n",
    "out_path = '/explore/nobackup/people/spotter5/cnn_mapping/Russia/anna_monthly_ndsi'\n",
    "size = 128\n",
    "threshold = True\n",
    "\n",
    "# Set output path based on threshold\n",
    "if threshold:\n",
    "    out_path += f'_subs_0_{size}'\n",
    "else:\n",
    "    out_path += f'_subs_{size}'\n",
    "\n",
    "if not os.path.isdir(out_path):\n",
    "    os.makedirs(out_path)\n",
    "\n",
    "files = [f for f in os.listdir(in_path) if f.endswith('.tif')]\n",
    "\n",
    "# Define the function to process a single file\n",
    "def process_file(f):\n",
    "    try:\n",
    "        f2 = f.replace('median_', '')\n",
    "        f_id = int(f2.replace('.tif', ''))\n",
    "        in_mat = rioxarray.open_rasterio(os.path.join(in_path, f)).to_numpy().astype(float)\n",
    "        in_mat = np.moveaxis(in_mat, 0, 2) \n",
    "        t = in_mat[:, :, 0]\n",
    "        if not is_matrix_all_zeros(t):\n",
    "            mosaic = MightyMosaic.from_array(in_mat, (size, size), overlap_factor=1) \n",
    "            mosaic = mosaic[:-1, :-1, :, :, :]\n",
    "            for i in range(mosaic.shape[0]):\n",
    "                for j in range(mosaic.shape[1]):\n",
    "                    fname = os.path.join(str(i) + '_' +  str(j) + '_' + f2.replace('.tif', '.npy'))\n",
    "                    out_name = os.path.join(out_path, fname)\n",
    "                    if not os.path.exists(out_name):\n",
    "                        in_mat3 = mosaic[i, j, :, :, :-1]\n",
    "                        target = mosaic[i, j, :, :, 3]\n",
    "                        in_mat3[np.isnan(in_mat3)] = -999\n",
    "                        target = target.astype('int')\n",
    "                        target[target < 0] = 0\n",
    "                        target[target > 1] = 0\n",
    "                        target[~np.isin(target, [0, 1])] = 0\n",
    "                        target[np.isnan(target)] = 0\n",
    "                        dnbr = in_mat3[:, :, 0]\n",
    "                        if not is_matrix_all_zeros(dnbr):\n",
    "                            if threshold:\n",
    "                                target[dnbr < 0] = 0\n",
    "                            e = np.dstack([in_mat3, target])\n",
    "                            np.save(out_name, e)\n",
    "                            print(f\"Processed {f}\")\n",
    "    except Exception as e:\n",
    "        print(f\"Error processing {f}: {e}\")\n",
    "\n",
    "# Parallel execution using Dask\n",
    "tasks = [dask.delayed(process_file)(f) for f in files]\n",
    "\n",
    "with ProgressBar():\n",
    "    dask.compute(*tasks)\n"
   ]
  },
  {
   "cell_type": "code",
   "execution_count": 11,
   "id": "ebe8d71e-9ee7-4951-97b3-c7ad9cd3d513",
   "metadata": {
    "tags": []
   },
   "outputs": [
    {
     "data": {
      "text/plain": [
       "'t'"
      ]
     },
     "execution_count": 11,
     "metadata": {},
     "output_type": "execute_result"
    }
   ],
   "source": [
    "'t'"
   ]
  },
  {
   "cell_type": "markdown",
   "id": "bf8da9a9-7042-4100-95fb-288c85f30fba",
   "metadata": {
    "tags": []
   },
   "source": [
    "Now take those files and save a csv with file names for the 80/10/10 training, validation, testing parts"
   ]
  },
  {
   "cell_type": "code",
   "execution_count": 2,
   "id": "d3404b1b-4457-4437-98be-4837efe428fb",
   "metadata": {
    "tags": []
   },
   "outputs": [
    {
     "name": "stdout",
     "output_type": "stream",
     "text": [
      "385075\n",
      "(308060, 1)\n",
      "(38508, 1)\n",
      "(38507, 1)\n"
     ]
    }
   ],
   "source": [
    "\n",
    "def listdir_fullpath(d):\n",
    "    return [os.path.join(d, f) for f in os.listdir(d)]\n",
    "\n",
    "#list of files\n",
    "# file_names = listdir_fullpath('/explore/nobackup/people/spotter5/cnn_mapping/nbac_training/nbac_1985_sent_harm_subs_128')\n",
    "file_names = listdir_fullpath('/explore/nobackup/people/spotter5/cnn_mapping/Russia/anna_monthly_ndsi_subs_0_128')\n",
    "\n",
    "\n",
    "#shuffle file_names\n",
    "file_names = shuffle(file_names, random_state = 555)\n",
    "\n",
    "\n",
    "print(len(file_names))\n",
    "\n",
    "random.seed(555)\n",
    "# #get train at 80%\n",
    "\n",
    "train_files = random.sample(file_names, k=round(len(file_names) * 0.8))\n",
    "\n",
    "#files at 10%\n",
    "val_files = list(set(file_names) - set(train_files))\n",
    "val_files = random.sample(val_files, k=round(len(file_names) * 0.1))\n",
    "\n",
    "#combine traini and val\n",
    "temp = train_files + val_files\n",
    "#get test files at 10%\n",
    "test_files = list(set(file_names) - set(temp))\n",
    "\n",
    "\n",
    "#convert the lists to pandas dataframes\n",
    "train = pd.DataFrame({'Files': train_files})\n",
    "val = pd.DataFrame({'Files': val_files})\n",
    "test = pd.DataFrame({'Files': test_files})\n",
    "\n",
    "print(train.shape)\n",
    "print(val.shape)\n",
    "print(test.shape)\n",
    "\n",
    "train.to_csv('/explore/nobackup/people/spotter5/cnn_mapping/Russia/anna_monthly_ndsi_training_files.csv')\n",
    "val.to_csv('/explore/nobackup/people/spotter5/cnn_mapping/Russia/anna_monthly_ndsi_validation_files.csv')\n",
    "test.to_csv('/explore/nobackup/people/spotter5/cnn_mapping/Russia/anna_monthly_ndsi_testing_files.csv')\n"
   ]
  },
  {
   "cell_type": "code",
   "execution_count": null,
   "id": "840404d9-295e-4f83-9b6b-3eb8053666f1",
   "metadata": {
    "collapsed": true,
    "jupyter": {
     "outputs_hidden": true
    }
   },
   "outputs": [],
   "source": []
  }
 ],
 "metadata": {
  "kernelspec": {
   "display_name": "Python [conda env:.conda-deeplearning3]",
   "language": "python",
   "name": "conda-env-.conda-deeplearning3-py"
  },
  "language_info": {
   "codemirror_mode": {
    "name": "ipython",
    "version": 3
   },
   "file_extension": ".py",
   "mimetype": "text/x-python",
   "name": "python",
   "nbconvert_exporter": "python",
   "pygments_lexer": "ipython3",
   "version": "3.10.11"
  }
 },
 "nbformat": 4,
 "nbformat_minor": 5
}
