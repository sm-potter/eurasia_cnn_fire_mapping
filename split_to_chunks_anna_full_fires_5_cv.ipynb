{
 "cells": [
  {
   "cell_type": "markdown",
   "id": "4e64633b-961c-46f4-ade9-24384ff8bb0e",
   "metadata": {},
   "source": [
    "Read in packages"
   ]
  },
  {
   "cell_type": "code",
   "execution_count": 2,
   "id": "00387a58-86f6-4282-bf6b-23d2bef9e01a",
   "metadata": {
    "tags": []
   },
   "outputs": [],
   "source": [
    "import pandas as pd\n",
    "import os\n",
    "import numpy as np\n",
    "import xarray as xr\n",
    "import rioxarray\n",
    "import glob\n",
    "import random\n",
    "import geopandas as gpd\n",
    "from sklearn.utils import shuffle\n",
    "from MightyMosaic import MightyMosaic\n",
    "from sklearn.model_selection import train_test_split\n",
    "from sklearn.model_selection import KFold\n"
   ]
  },
  {
   "cell_type": "code",
   "execution_count": 15,
   "id": "5a3c5e19-48eb-456d-b852-8e35935ee1c3",
   "metadata": {},
   "outputs": [
    {
     "name": "stdout",
     "output_type": "stream",
     "text": [
      "Fold 1: Train (4644, 4), Validation (1548, 4), Test (1548, 4)\n",
      "Fold 2: Train (4644, 4), Validation (1548, 4), Test (1548, 4)\n",
      "Fold 3: Train (4644, 4), Validation (1548, 4), Test (1548, 4)\n",
      "Fold 4: Train (4644, 4), Validation (1548, 4), Test (1548, 4)\n",
      "Fold 5: Train (4644, 4), Validation (1548, 4), Test (1548, 4)\n",
      "Fold 1: Train (4644, 4), Validation (1548, 4), Test (1548, 4)\n",
      "Fold 2: Train (4644, 4), Validation (1548, 4), Test (1548, 4)\n",
      "Fold 3: Train (4644, 4), Validation (1548, 4), Test (1548, 4)\n",
      "Fold 4: Train (4644, 4), Validation (1548, 4), Test (1548, 4)\n",
      "Fold 5: Train (4644, 4), Validation (1548, 4), Test (1548, 4)\n"
     ]
    },
    {
     "name": "stderr",
     "output_type": "stream",
     "text": [
      "/tmp/ipykernel_2308571/2431109095.py:9: UserWarning: Geometry column does not contain geometry.\n",
      "  in_shape['geometry'] = in_shape['geometry'].apply(lambda geom: geom.wkt)\n"
     ]
    }
   ],
   "source": [
    "# Load your data\n",
    "df = pd.read_csv('/explore/nobackup/people/spotter5/cnn_mapping/Russia/anna_poly_check_ee.csv')\n",
    "df = df.rename(columns={'Image': 'ID'})\n",
    "df = df[df['ID'].isin(['29690000000000-0000000000', '29690000000000-0000023296']) == False]\n",
    "df['ID'] = df['ID'].astype(int)\n",
    "\n",
    "# Load shapefile data and merge with main dataframe\n",
    "in_shape = gpd.read_file('/explore/nobackup/people/spotter5/cnn_mapping/Russia/anna_polygons.shp')\n",
    "in_shape['geometry'] = in_shape['geometry'].apply(lambda geom: geom.wkt)\n",
    "in_shape = pd.DataFrame(in_shape[['Year', 'ID', 'area']])\n",
    "df = pd.merge(in_shape, df, on='ID', how='inner')\n",
    "df['Year'] = df['Year'].astype(int)\n",
    "df = df[df['Keep'] == 'Yes']\n",
    "\n",
    "df = df.reset_index(drop = True)\n",
    "\n",
    "# Initialize KFold\n",
    "kf = KFold(n_splits=5, shuffle=True, random_state=42)\n",
    "\n",
    "# Preparing indices for entire data shuffling\n",
    "df_shuffled = df.sample(frac=1, random_state=42).reset_index(drop=True)\n",
    "\n",
    "# Split data into 5 folds\n",
    "fold = 0\n",
    "results = []\n",
    "for train_val_index, test_index in kf.split(df_shuffled):\n",
    "    # Extract test set (10% of total)\n",
    "    test_df = df_shuffled.iloc[test_index]\n",
    "\n",
    "    # Extract the remaining data for this fold\n",
    "    train_val_df = df_shuffled.iloc[train_val_index]\n",
    "\n",
    "    # Further split remaining data into training (80% of total, 88.89% of remaining) and validation (10% of total, 11.11% of remaining)\n",
    "    train_df, val_df = train_test_split(train_val_df, test_size=0.125 * 2, random_state=42)  # 0.125 * 0.9 = 0.1125 ~ 10% of total\n",
    "\n",
    "    # Save each fold's datasets to CSV files\n",
    "    train_df.to_csv(f'/explore/nobackup/people/spotter5/cnn_mapping/Russia/train_fold_{fold}.csv', index=False)\n",
    "    val_df.to_csv(f'/explore/nobackup/people/spotter5/cnn_mapping/Russia/val_fold_{fold}.csv', index=False)\n",
    "    test_df.to_csv(f'/explore/nobackup/people/spotter5/cnn_mapping/Russia/test_fold_{fold}.csv', index=False)\n",
    "\n",
    "\n",
    "    fold += 1\n",
    "    print(f\"Fold {fold}: Train {train_df.shape}, Validation {val_df.shape}, Test {test_df.shape}\")\n",
    "    results.append((train_df.shape, val_df.shape, test_df.shape))\n",
    "\n",
    "# Output the shapes to verify the splits are as expected\n",
    "# for i, (train, val, test) in enumerate(results, 1):\n",
    "#     print(f\"Fold {i}: Train {train}, Validation {val}, Test {test}\")"
   ]
  },
  {
   "cell_type": "code",
   "execution_count": 16,
   "id": "cb0d256d-04e2-405e-a602-36d1bae0e3f8",
   "metadata": {},
   "outputs": [
    {
     "data": {
      "text/html": [
       "<div>\n",
       "<style scoped>\n",
       "    .dataframe tbody tr th:only-of-type {\n",
       "        vertical-align: middle;\n",
       "    }\n",
       "\n",
       "    .dataframe tbody tr th {\n",
       "        vertical-align: top;\n",
       "    }\n",
       "\n",
       "    .dataframe thead th {\n",
       "        text-align: right;\n",
       "    }\n",
       "</style>\n",
       "<table border=\"1\" class=\"dataframe\">\n",
       "  <thead>\n",
       "    <tr style=\"text-align: right;\">\n",
       "      <th></th>\n",
       "      <th>Year</th>\n",
       "      <th>ID</th>\n",
       "      <th>area</th>\n",
       "      <th>Keep</th>\n",
       "    </tr>\n",
       "  </thead>\n",
       "  <tbody>\n",
       "    <tr>\n",
       "      <th>4506</th>\n",
       "      <td>2008</td>\n",
       "      <td>7174</td>\n",
       "      <td>311.59000</td>\n",
       "      <td>Yes</td>\n",
       "    </tr>\n",
       "    <tr>\n",
       "      <th>3997</th>\n",
       "      <td>2001</td>\n",
       "      <td>709</td>\n",
       "      <td>28.64330</td>\n",
       "      <td>Yes</td>\n",
       "    </tr>\n",
       "    <tr>\n",
       "      <th>4055</th>\n",
       "      <td>2014</td>\n",
       "      <td>14052</td>\n",
       "      <td>49.40180</td>\n",
       "      <td>Yes</td>\n",
       "    </tr>\n",
       "    <tr>\n",
       "      <th>6264</th>\n",
       "      <td>2015</td>\n",
       "      <td>14960</td>\n",
       "      <td>67.23170</td>\n",
       "      <td>Yes</td>\n",
       "    </tr>\n",
       "    <tr>\n",
       "      <th>7605</th>\n",
       "      <td>2018</td>\n",
       "      <td>17914</td>\n",
       "      <td>10.11260</td>\n",
       "      <td>Yes</td>\n",
       "    </tr>\n",
       "    <tr>\n",
       "      <th>...</th>\n",
       "      <td>...</td>\n",
       "      <td>...</td>\n",
       "      <td>...</td>\n",
       "      <td>...</td>\n",
       "    </tr>\n",
       "    <tr>\n",
       "      <th>4695</th>\n",
       "      <td>2002</td>\n",
       "      <td>1420</td>\n",
       "      <td>748.96800</td>\n",
       "      <td>Yes</td>\n",
       "    </tr>\n",
       "    <tr>\n",
       "      <th>6497</th>\n",
       "      <td>2018</td>\n",
       "      <td>18663</td>\n",
       "      <td>15.57390</td>\n",
       "      <td>Yes</td>\n",
       "    </tr>\n",
       "    <tr>\n",
       "      <th>6536</th>\n",
       "      <td>2006</td>\n",
       "      <td>5478</td>\n",
       "      <td>3.89719</td>\n",
       "      <td>Yes</td>\n",
       "    </tr>\n",
       "    <tr>\n",
       "      <th>6730</th>\n",
       "      <td>2012</td>\n",
       "      <td>12118</td>\n",
       "      <td>19.50430</td>\n",
       "      <td>Yes</td>\n",
       "    </tr>\n",
       "    <tr>\n",
       "      <th>1051</th>\n",
       "      <td>2002</td>\n",
       "      <td>1539</td>\n",
       "      <td>94.29200</td>\n",
       "      <td>Yes</td>\n",
       "    </tr>\n",
       "  </tbody>\n",
       "</table>\n",
       "<p>4644 rows × 4 columns</p>\n",
       "</div>"
      ],
      "text/plain": [
       "      Year     ID       area Keep\n",
       "4506  2008   7174  311.59000  Yes\n",
       "3997  2001    709   28.64330  Yes\n",
       "4055  2014  14052   49.40180  Yes\n",
       "6264  2015  14960   67.23170  Yes\n",
       "7605  2018  17914   10.11260  Yes\n",
       "...    ...    ...        ...  ...\n",
       "4695  2002   1420  748.96800  Yes\n",
       "6497  2018  18663   15.57390  Yes\n",
       "6536  2006   5478    3.89719  Yes\n",
       "6730  2012  12118   19.50430  Yes\n",
       "1051  2002   1539   94.29200  Yes\n",
       "\n",
       "[4644 rows x 4 columns]"
      ]
     },
     "execution_count": 16,
     "metadata": {},
     "output_type": "execute_result"
    }
   ],
   "source": [
    "train_df"
   ]
  },
  {
   "cell_type": "code",
   "execution_count": 20,
   "id": "895534ff-5f97-4798-a753-dda9de2ff536",
   "metadata": {},
   "outputs": [
    {
     "name": "stdout",
     "output_type": "stream",
     "text": [
      "[]\n"
     ]
    }
   ],
   "source": [
    "test_id = test_df['ID']\n",
    "train_id = train_df['ID']\n",
    "val_id = val_df['ID']\n",
    "\n",
    "#\n",
    "common_elements = set(train_id).intersection(val_id)\n",
    "\n",
    "# Convert the set back to a list, if needed\n",
    "common_elements_list = list(common_elements)\n",
    "\n",
    "print(common_elements_list)"
   ]
  },
  {
   "cell_type": "code",
   "execution_count": null,
   "id": "3a074c3f-bfcc-4bb8-8cf5-308b573e2dcc",
   "metadata": {},
   "outputs": [],
   "source": []
  }
 ],
 "metadata": {
  "kernelspec": {
   "display_name": "Python [conda env:.conda-deeplearning3]",
   "language": "python",
   "name": "conda-env-.conda-deeplearning3-py"
  },
  "language_info": {
   "codemirror_mode": {
    "name": "ipython",
    "version": 3
   },
   "file_extension": ".py",
   "mimetype": "text/x-python",
   "name": "python",
   "nbconvert_exporter": "python",
   "pygments_lexer": "ipython3",
   "version": "3.10.11"
  }
 },
 "nbformat": 4,
 "nbformat_minor": 5
}
