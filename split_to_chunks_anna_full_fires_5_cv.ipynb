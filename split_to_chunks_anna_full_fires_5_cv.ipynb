{
 "cells": [
  {
   "cell_type": "markdown",
   "id": "4e64633b-961c-46f4-ade9-24384ff8bb0e",
   "metadata": {},
   "source": [
    "Read in packages"
   ]
  },
  {
   "cell_type": "code",
   "execution_count": 1,
   "id": "00387a58-86f6-4282-bf6b-23d2bef9e01a",
   "metadata": {
    "tags": []
   },
   "outputs": [],
   "source": [
    "import pandas as pd\n",
    "import os\n",
    "import numpy as np\n",
    "import xarray as xr\n",
    "import rioxarray\n",
    "import glob\n",
    "import random\n",
    "import geopandas as gpd\n",
    "from sklearn.utils import shuffle\n",
    "from MightyMosaic import MightyMosaic\n",
    "from sklearn.model_selection import train_test_split\n",
    "from sklearn.model_selection import KFold\n"
   ]
  },
  {
   "cell_type": "code",
   "execution_count": 8,
   "id": "b50cd74b-150c-406e-8b16-ea8143b83e72",
   "metadata": {},
   "outputs": [
    {
     "data": {
      "text/plain": [
       "Keep\n",
       "Yes      40.410315\n",
       "No       30.324702\n",
       "Maybe    29.264982\n",
       "Name: proportion, dtype: float64"
      ]
     },
     "execution_count": 8,
     "metadata": {},
     "output_type": "execute_result"
    }
   ],
   "source": [
    "df = pd.read_csv('/explore/nobackup/people/spotter5/cnn_mapping/Russia/anna_poly_check.csv')\n",
    "\n",
    "df['Keep'].value_counts(normalize=True) * 100"
   ]
  },
  {
   "cell_type": "code",
   "execution_count": 2,
   "id": "6cf053fe-e14f-4a6c-aba2-b17ab63fbea3",
   "metadata": {},
   "outputs": [
    {
     "name": "stderr",
     "output_type": "stream",
     "text": [
      "/tmp/ipykernel_1984151/399835482.py:10: UserWarning: Geometry column does not contain geometry.\n",
      "  in_shape['geometry'] = in_shape['geometry'].apply(lambda geom: geom.wkt)\n"
     ]
    },
    {
     "data": {
      "text/plain": [
       "(7740, 4)"
      ]
     },
     "execution_count": 2,
     "metadata": {},
     "output_type": "execute_result"
    }
   ],
   "source": [
    "# Load your data\n",
    "df = pd.read_csv('/explore/nobackup/people/spotter5/cnn_mapping/Russia/anna_poly_check_ee.csv')\n",
    "df = df[df['Keep'] == 'Yes']\n",
    "df = df.rename(columns={'Image': 'ID'})\n",
    "df = df[df['ID'].isin(['29690000000000-0000000000', '29690000000000-0000023296']) == False]\n",
    "df['ID'] = df['ID'].astype(int)\n",
    "\n",
    "# # Load shapefile data and merge with main dataframe\n",
    "in_shape = gpd.read_file('/explore/nobackup/people/spotter5/cnn_mapping/Russia/anna_polygons.shp')\n",
    "in_shape['geometry'] = in_shape['geometry'].apply(lambda geom: geom.wkt)\n",
    "in_shape = pd.DataFrame(in_shape[['Year', 'ID', 'area']])\n",
    "df = pd.merge(in_shape, df, on='ID', how='inner')\n",
    "df['Year'] = df['Year'].astype(int)\n",
    "df = df[df['Keep'] == 'Yes']\n",
    "\n",
    "df = df.reset_index(drop = True)\n",
    "\n",
    "df.shape"
   ]
  },
  {
   "cell_type": "code",
   "execution_count": 9,
   "id": "6ce7cc74-690c-4de8-afcf-75be693b2608",
   "metadata": {},
   "outputs": [],
   "source": [
    "import pandas as pd\n",
    "import geopandas as gpd\n",
    "\n",
    "# Load your data\n",
    "df = pd.read_csv('/explore/nobackup/people/spotter5/cnn_mapping/Russia/anna_poly_check_ee.csv')\n",
    "df = df[df['Keep'] == 'Yes']\n",
    "df = df.rename(columns={'Image': 'ID'})\n",
    "df = df[~df['ID'].isin(['29690000000000-0000000000', '29690000000000-0000023296'])]\n",
    "df['ID'] = df['ID'].astype(int)\n",
    "\n",
    "# Load shapefile data and merge with main dataframe\n",
    "in_shape = gpd.read_file('/explore/nobackup/people/spotter5/cnn_mapping/Russia/anna_polygons.shp')\n",
    "in_shape = in_shape[['Year', 'ID', 'geometry', 'area']]  # Ensure geometry column is included\n",
    "\n",
    "\n",
    "in_shape = in_shape[in_shape['ID'] .isin (df['ID'])]\n",
    "\n",
    "\n",
    "in_shape.to_file('/explore/nobackup/people/spotter5/cnn_mapping/Russia/good_polys_anna.shp')\n"
   ]
  },
  {
   "cell_type": "code",
   "execution_count": 8,
   "id": "5a3c5e19-48eb-456d-b852-8e35935ee1c3",
   "metadata": {},
   "outputs": [
    {
     "name": "stderr",
     "output_type": "stream",
     "text": [
      "/tmp/ipykernel_3746922/2579618206.py:9: UserWarning: Geometry column does not contain geometry.\n",
      "  in_shape['geometry'] = in_shape['geometry'].apply(lambda geom: geom.wkt)\n"
     ]
    },
    {
     "name": "stdout",
     "output_type": "stream",
     "text": [
      "Fold 1: Train (5418, 4), Validation (774, 4), Test (1548, 4)\n",
      "Fold 2: Train (5418, 4), Validation (774, 4), Test (1548, 4)\n",
      "Fold 3: Train (5418, 4), Validation (774, 4), Test (1548, 4)\n",
      "Fold 4: Train (5418, 4), Validation (774, 4), Test (1548, 4)\n",
      "Fold 5: Train (5418, 4), Validation (774, 4), Test (1548, 4)\n"
     ]
    }
   ],
   "source": [
    "# Load your data\n",
    "df = pd.read_csv('/explore/nobackup/people/spotter5/cnn_mapping/Russia/anna_poly_check_ee.csv')\n",
    "df = df.rename(columns={'Image': 'ID'})\n",
    "df = df[df['ID'].isin(['29690000000000-0000000000', '29690000000000-0000023296']) == False]\n",
    "df['ID'] = df['ID'].astype(int)\n",
    "\n",
    "# Load shapefile data and merge with main dataframe\n",
    "in_shape = gpd.read_file('/explore/nobackup/people/spotter5/cnn_mapping/Russia/anna_polygons.shp')\n",
    "in_shape['geometry'] = in_shape['geometry'].apply(lambda geom: geom.wkt)\n",
    "in_shape = pd.DataFrame(in_shape[['Year', 'ID', 'area']])\n",
    "df = pd.merge(in_shape, df, on='ID', how='inner')\n",
    "df['Year'] = df['Year'].astype(int)\n",
    "df = df[df['Keep'] == 'Yes']\n",
    "\n",
    "df = df.reset_index(drop = True)\n",
    "\n",
    "\n",
    "df.head()\n",
    "# Initialize KFold\n",
    "kf = KFold(n_splits=5, shuffle=True, random_state=42)\n",
    "\n",
    "# Preparing indices for entire data shuffling\n",
    "df_shuffled = df.sample(frac=1, random_state=42).reset_index(drop=True)\n",
    "\n",
    "# Split data into 5 folds\n",
    "fold = 0\n",
    "results = []\n",
    "for train_val_index, test_index in kf.split(df_shuffled):\n",
    "    # Extract test set (20% of total)\n",
    "    test_df = df_shuffled.iloc[test_index]\n",
    "\n",
    "    # Extract the remaining data for this fold\n",
    "    train_val_df = df_shuffled.iloc[train_val_index]\n",
    "\n",
    "    # Further split remaining data into training (70% of total, 87.5% of remaining) and validation (10% of total, 12.5% of remaining)\n",
    "    train_df, val_df = train_test_split(train_val_df, test_size=0.125, random_state=42)  # 0.125 * 0.8 = 0.1 ~ 10% of total\n",
    "\n",
    "    # Save each fold's datasets to CSV files\n",
    "    train_df.to_csv(f'/explore/nobackup/people/spotter5/cnn_mapping/Russia/train_fold_{fold}.csv', index=False)\n",
    "    val_df.to_csv(f'/explore/nobackup/people/spotter5/cnn_mapping/Russia/val_fold_{fold}.csv', index=False)\n",
    "    test_df.to_csv(f'/explore/nobackup/people/spotter5/cnn_mapping/Russia/test_fold_{fold}.csv', index=False)\n",
    "\n",
    "    fold += 1\n",
    "    print(f\"Fold {fold}: Train {train_df.shape}, Validation {val_df.shape}, Test {test_df.shape}\")\n",
    "    results.append((train_df.shape, val_df.shape, test_df.shape))\n"
   ]
  },
  {
   "cell_type": "code",
   "execution_count": 20,
   "id": "895534ff-5f97-4798-a753-dda9de2ff536",
   "metadata": {},
   "outputs": [
    {
     "name": "stdout",
     "output_type": "stream",
     "text": [
      "[]\n"
     ]
    }
   ],
   "source": [
    "test_id = test_df['ID']\n",
    "train_id = train_df['ID']\n",
    "val_id = val_df['ID']\n",
    "\n",
    "#\n",
    "common_elements = set(train_id).intersection(val_id)\n",
    "\n",
    "# Convert the set back to a list, if needed\n",
    "common_elements_list = list(common_elements)\n",
    "\n",
    "print(common_elements_list)"
   ]
  },
  {
   "cell_type": "code",
   "execution_count": 4,
   "id": "3a074c3f-bfcc-4bb8-8cf5-308b573e2dcc",
   "metadata": {},
   "outputs": [],
   "source": [
    "df.to_csv('/explore/nobackup/people/spotter5/cnn_mapping/Russia/delete.csv')"
   ]
  },
  {
   "cell_type": "code",
   "execution_count": 5,
   "id": "bd95effa-79cc-454b-89ca-5bcae8b96970",
   "metadata": {},
   "outputs": [
    {
     "data": {
      "text/plain": [
       "(7740, 4)"
      ]
     },
     "execution_count": 5,
     "metadata": {},
     "output_type": "execute_result"
    }
   ],
   "source": [
    "df.shape"
   ]
  },
  {
   "cell_type": "markdown",
   "id": "6a0d0444-2283-4495-bf8f-69524417f99e",
   "metadata": {},
   "source": [
    "For some reason I don't have all the fires in my val sets, need to see why\n",
    "\n"
   ]
  },
  {
   "cell_type": "code",
   "execution_count": 14,
   "id": "ecc2cae9-e522-4e17-916a-89cf000913d7",
   "metadata": {},
   "outputs": [],
   "source": [
    "import pandas as pd\n",
    "\n",
    "one = pd.read_csv('/explore/nobackup/people/spotter5/cnn_mapping/Russia/test_fold_0.csv',  usecols=['ID'])\n",
    "two = pd.read_csv('/explore/nobackup/people/spotter5/cnn_mapping/Russia/test_fold_1.csv',  usecols=['ID'])\n",
    "three = pd.read_csv('/explore/nobackup/people/spotter5/cnn_mapping/Russia/test_fold_2.csv',  usecols=['ID'])\n",
    "four = pd.read_csv('/explore/nobackup/people/spotter5/cnn_mapping/Russia/test_fold_3.csv',  usecols=['ID'])\n",
    "five = pd.read_csv('/explore/nobackup/people/spotter5/cnn_mapping/Russia/test_fold_4.csv',  usecols=['ID'])\n",
    "\n",
    "\n",
    "\n"
   ]
  },
  {
   "cell_type": "code",
   "execution_count": null,
   "id": "9b37fad3-d524-4be1-b0b9-a62c93acfbaa",
   "metadata": {},
   "outputs": [],
   "source": []
  },
  {
   "cell_type": "code",
   "execution_count": 28,
   "id": "d7fa88b5-8d67-4e07-b7da-5a7a47b4f037",
   "metadata": {},
   "outputs": [
    {
     "name": "stdout",
     "output_type": "stream",
     "text": [
      "[10406 14758 16722 ...  7480  8800 13057]\n"
     ]
    }
   ],
   "source": [
    "# Merge the dataframes on the 'ID' column\n",
    "# merged = pd.merge(one, two, on='ID')\n",
    "# merged = pd.merge(merged, three, on='ID')\n",
    "# merged = pd.merge(merged, four, on='ID')\n",
    "# merged = pd.merge(merged, five, on='ID')\n",
    "\n",
    "merged = pd.concat([one, two, three, four, five])\n",
    "\n",
    "# Get the common IDs\n",
    "common_ids = merged['ID'].unique()\n",
    "print(common_ids)"
   ]
  },
  {
   "cell_type": "code",
   "execution_count": 29,
   "id": "a83bee73-8f86-42dd-a0d5-8b7587d853c8",
   "metadata": {},
   "outputs": [
    {
     "name": "stdout",
     "output_type": "stream",
     "text": [
      "not in list\n"
     ]
    }
   ],
   "source": [
    "\n",
    "#12450 ,12375. #12450 is in one\n",
    "if 12450 in common_ids:\n",
    "    \n",
    "    print(\"in list\")\n",
    "else:\n",
    "    print('not in list')"
   ]
  },
  {
   "cell_type": "code",
   "execution_count": 4,
   "id": "736e17dd-53ca-4f48-b2df-dea9ad523421",
   "metadata": {},
   "outputs": [
    {
     "name": "stderr",
     "output_type": "stream",
     "text": [
      "/tmp/ipykernel_1932323/1530560583.py:10: UserWarning: Geometry column does not contain geometry.\n",
      "  in_shape['geometry'] = in_shape['geometry'].apply(lambda geom: geom.wkt)\n"
     ]
    },
    {
     "data": {
      "text/plain": [
       "(7740, 4)"
      ]
     },
     "execution_count": 4,
     "metadata": {},
     "output_type": "execute_result"
    }
   ],
   "source": [
    "import geopandas as gpd\n",
    "\n",
    "df = pd.read_csv('/explore/nobackup/people/spotter5/cnn_mapping/Russia/anna_poly_check_ee.csv')\n",
    "df = df.rename(columns={'Image': 'ID'})\n",
    "df = df[df['ID'].isin(['29690000000000-0000000000', '29690000000000-0000023296']) == False]\n",
    "df['ID'] = df['ID'].astype(int)\n",
    "\n",
    "# Load shapefile data and merge with main dataframe\n",
    "in_shape = gpd.read_file('/explore/nobackup/people/spotter5/cnn_mapping/Russia/anna_polygons.shp')\n",
    "in_shape['geometry'] = in_shape['geometry'].apply(lambda geom: geom.wkt)\n",
    "in_shape = pd.DataFrame(in_shape[['Year', 'ID', 'area']])\n",
    "df = pd.merge(in_shape, df, on='ID', how='inner')\n",
    "df['Year'] = df['Year'].astype(int)\n",
    "df = df[df['Keep'] == 'Yes']\n",
    "\n",
    "df = df.reset_index(drop = True)\n",
    "df.shape"
   ]
  },
  {
   "cell_type": "markdown",
   "id": "0e4caf67-ae12-4b79-be86-056a6f90c007",
   "metadata": {},
   "source": [
    "make sure all the merged ids are in df"
   ]
  },
  {
   "cell_type": "code",
   "execution_count": 15,
   "id": "0851a9db-ef22-4201-8f60-e1c0b0d2cb02",
   "metadata": {},
   "outputs": [
    {
     "data": {
      "text/plain": [
       "[]"
      ]
     },
     "execution_count": 15,
     "metadata": {},
     "output_type": "execute_result"
    }
   ],
   "source": [
    "in_test = merged['ID'].unique()\n",
    "\n",
    "in_anna = df['ID'].unique()\n",
    "\n",
    "result = [item for item in in_test if item not in in_anna]\n",
    "\n",
    "result"
   ]
  },
  {
   "cell_type": "code",
   "execution_count": 16,
   "id": "ac58e4aa-54d2-43f4-81cf-015727ec9d9d",
   "metadata": {},
   "outputs": [
    {
     "data": {
      "text/plain": [
       "[]"
      ]
     },
     "execution_count": 16,
     "metadata": {},
     "output_type": "execute_result"
    }
   ],
   "source": [
    "result2 = [item for item in in_anna if item not in in_test]\n",
    "result2\n"
   ]
  },
  {
   "cell_type": "code",
   "execution_count": 9,
   "id": "4b410d3d-f09c-42f4-98c4-13d015c1aebf",
   "metadata": {},
   "outputs": [
    {
     "data": {
      "text/html": [
       "<div>\n",
       "<style scoped>\n",
       "    .dataframe tbody tr th:only-of-type {\n",
       "        vertical-align: middle;\n",
       "    }\n",
       "\n",
       "    .dataframe tbody tr th {\n",
       "        vertical-align: top;\n",
       "    }\n",
       "\n",
       "    .dataframe thead th {\n",
       "        text-align: right;\n",
       "    }\n",
       "</style>\n",
       "<table border=\"1\" class=\"dataframe\">\n",
       "  <thead>\n",
       "    <tr style=\"text-align: right;\">\n",
       "      <th></th>\n",
       "      <th>ID</th>\n",
       "    </tr>\n",
       "  </thead>\n",
       "  <tbody>\n",
       "  </tbody>\n",
       "</table>\n",
       "</div>"
      ],
      "text/plain": [
       "Empty DataFrame\n",
       "Columns: [ID]\n",
       "Index: []"
      ]
     },
     "execution_count": 9,
     "metadata": {},
     "output_type": "execute_result"
    }
   ],
   "source": [
    "merged.head()"
   ]
  }
 ],
 "metadata": {
  "kernelspec": {
   "display_name": "Python [conda env:.conda-deeplearning3]",
   "language": "python",
   "name": "conda-env-.conda-deeplearning3-py"
  },
  "language_info": {
   "codemirror_mode": {
    "name": "ipython",
    "version": 3
   },
   "file_extension": ".py",
   "mimetype": "text/x-python",
   "name": "python",
   "nbconvert_exporter": "python",
   "pygments_lexer": "ipython3",
   "version": "3.10.11"
  }
 },
 "nbformat": 4,
 "nbformat_minor": 5
}
