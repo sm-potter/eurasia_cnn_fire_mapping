{
 "cells": [
  {
   "cell_type": "markdown",
   "metadata": {},
   "source": [
    "Read in packages"
   ]
  },
  {
   "cell_type": "code",
   "execution_count": 2,
   "metadata": {
    "tags": []
   },
   "outputs": [],
   "source": [
    "import os\n",
    "import pandas as pd\n",
    "import matplotlib.pyplot as plt\n",
    "import numpy as np\n",
    "import seaborn as sns\n",
    "import geopandas as gpd\n",
    "import rioxarray\n",
    "import ipywidgets as widgets\n",
    "from IPython.display import display, clear_output\n",
    "from IPython.display import Image as IPImage, display as IPdisplay\n",
    "from mpl_toolkits.axes_grid1 import make_axes_locatable\n"
   ]
  },
  {
   "cell_type": "code",
   "execution_count": 347,
   "metadata": {
    "tags": []
   },
   "outputs": [
    {
     "ename": "IndexError",
     "evalue": "list index out of range",
     "output_type": "error",
     "traceback": [
      "\u001b[0;31m---------------------------------------------------------------------------\u001b[0m",
      "\u001b[0;31mIndexError\u001b[0m                                Traceback (most recent call last)",
      "Cell \u001b[0;32mIn[347], line 122\u001b[0m\n\u001b[1;32m    117\u001b[0m all_indexes \u001b[38;5;241m=\u001b[39m np\u001b[38;5;241m.\u001b[39marange(\u001b[38;5;241m0\u001b[39m, \u001b[38;5;28mlen\u001b[39m(image_files) \u001b[38;5;241m+\u001b[39m \u001b[38;5;241m1\u001b[39m)\n\u001b[1;32m    119\u001b[0m \u001b[38;5;66;03m# for current_index in all_indexes:\u001b[39;00m\n\u001b[1;32m    120\u001b[0m     \n\u001b[1;32m    121\u001b[0m     \u001b[38;5;66;03m# Display the first image and buttons\u001b[39;00m\n\u001b[0;32m--> 122\u001b[0m \u001b[43mdisplay_image\u001b[49m\u001b[43m(\u001b[49m\u001b[43mcurrent_index\u001b[49m\u001b[43m)\u001b[49m\n\u001b[1;32m    123\u001b[0m display_buttons()\n",
      "Cell \u001b[0;32mIn[347], line 20\u001b[0m, in \u001b[0;36mdisplay_image\u001b[0;34m(index)\u001b[0m\n\u001b[1;32m     19\u001b[0m \u001b[38;5;28;01mdef\u001b[39;00m \u001b[38;5;21mdisplay_image\u001b[39m(index):\n\u001b[0;32m---> 20\u001b[0m     image_path \u001b[38;5;241m=\u001b[39m os\u001b[38;5;241m.\u001b[39mpath\u001b[38;5;241m.\u001b[39mjoin(image_folder, \u001b[43mimage_files\u001b[49m\u001b[43m[\u001b[49m\u001b[43mindex\u001b[49m\u001b[43m]\u001b[49m)\n\u001b[1;32m     21\u001b[0m     \u001b[38;5;66;03m# image = plt.imread(image_path)\u001b[39;00m\n\u001b[1;32m     22\u001b[0m     img \u001b[38;5;241m=\u001b[39m rioxarray\u001b[38;5;241m.\u001b[39mopen_rasterio(os\u001b[38;5;241m.\u001b[39mpath\u001b[38;5;241m.\u001b[39mjoin(image_path))\u001b[38;5;241m.\u001b[39mto_numpy()\n",
      "\u001b[0;31mIndexError\u001b[0m: list index out of range"
     ]
    }
   ],
   "source": [
    "# Set the path to your image folder\n",
    "image_folder = '/explore/nobackup/people/spotter5/cnn_mapping/Russia/anna_training_85'\n",
    "\n",
    "# Get a list of image files in the folder\n",
    "image_files = [f for f in os.listdir(image_folder) if f.endswith(('tif'))]\n",
    "\n",
    "#read in pdf of data I have done\n",
    "done = pd.read_csv('/explore/nobackup/people/spotter5/cnn_mapping/Russia/anna_poly_check.csv')\n",
    "\n",
    "# print(len(image_files))\n",
    "\n",
    "#all ids done\n",
    "done_ids = done['Image'].unique()\n",
    "\n",
    "#remove done ids\n",
    "image_files = [i for i in image_files if i not in done_ids]\n",
    "\n",
    "# print(len(image_files))\n",
    "def display_image(index):\n",
    "    image_path = os.path.join(image_folder, image_files[index])\n",
    "    # image = plt.imread(image_path)\n",
    "    img = rioxarray.open_rasterio(os.path.join(image_path)).to_numpy()\n",
    "    \n",
    "    #dnbr\n",
    "    dnbr = img[0, :, :]\n",
    "\n",
    "    #y\n",
    "    y = img[-1, :, :]\n",
    "\n",
    "    #plot side by side\n",
    "    fig, ax = plt.subplots(ncols = 2, nrows = 1, figsize = (12, 4))\n",
    "\n",
    "    #plot y\n",
    "    im = ax[0].imshow(y, origin = 'lower', cmap = 'RdYlBu_r', aspect= 'auto', vmin= 0, vmax=1)\n",
    "    # ax[0,0].title.set_text('Fire')\n",
    "    ax[0].title.set_text('y')\n",
    "\n",
    "    divider = make_axes_locatable(ax[0])\n",
    "    cax = divider.append_axes('right', size='5%', pad=0.05)\n",
    "    fig.colorbar(im, cax=cax, orientation='vertical')\n",
    "\n",
    "    #plot2\n",
    "    # im2 = ax[0,1].imshow(in_mat[:, :, 0]/1000, origin = 'lower', cmap = 'Blues', aspect= 'auto')\n",
    "    im2 = ax[1].imshow(dnbr, origin = 'lower', cmap = 'RdYlBu_r', aspect= 'auto', vmin=-800, vmax=1000)\n",
    "    # ax[0,1].title.set_text('B1-Ultra Blue')\n",
    "    ax[1].title.set_text('dNBR')\n",
    "    divider = make_axes_locatable(ax[1])\n",
    "    cax = divider.append_axes('right', size='5%', pad=0.05)\n",
    "    fig.colorbar(im2, cax=cax, orientation='vertical')\n",
    "\n",
    "    plt.subplots_adjust(wspace=0.3, hspace=0.4)\n",
    "    \n",
    "    # Use IPython.display to show the figure in the notebook\n",
    "    display(fig)\n",
    "    plt.close(fig)  # Close the figure to avoid displaying it twice\n",
    "    # plt.show()\n",
    "    \n",
    "    \n",
    "#----if initiating a csv \n",
    "# def on_button_clicked(b):\n",
    "#     global current_index, keep_df\n",
    "#     decision = b.description\n",
    "#     keep_df = pd.concat([keep_df, pd.DataFrame({'Image': [image_files[current_index]], 'Keep': [decision]})])\n",
    "#     next_image()\n",
    "\n",
    "\n",
    "#if a csv is loaded in and being appended to\n",
    "def on_button_clicked(b):\n",
    "    global current_index, keep_df, done\n",
    "    decision = b.description\n",
    "    image_id = image_files[current_index]\n",
    "    \n",
    "    # Append new data to the done dataframe\n",
    "    done = pd.concat([done, pd.DataFrame({'Image': [image_id], 'Keep': [decision]})])\n",
    "    \n",
    "    # Save the updated done dataframe to the CSV file\n",
    "    done.to_csv('/explore/nobackup/people/spotter5/cnn_mapping/Russia/anna_poly_check.csv', index=False)\n",
    "    \n",
    "    next_image()\n",
    "    \n",
    "\n",
    "\n",
    "def next_image():\n",
    "    global current_index\n",
    "    clear_output(wait=True)\n",
    "    current_index += 1\n",
    "    if current_index < len(image_files):\n",
    "        display_image(current_index)\n",
    "        display_buttons()\n",
    "    else:\n",
    "        print(\"All images reviewed. DataFrame:\")\n",
    "        print(keep_df)\n",
    "        \n",
    "\n",
    "def display_buttons():\n",
    "    # Create Yes and No buttons\n",
    "    yes_button = widgets.Button(description=\"Yes\")\n",
    "    no_button = widgets.Button(description=\"No\")\n",
    "    maybe_button = widgets.Button(description=\"Maybe\")\n",
    "\n",
    "\n",
    "    # Connect button callbacks\n",
    "    yes_button.on_click(on_button_clicked)\n",
    "    no_button.on_click(on_button_clicked)\n",
    "    maybe_button.on_click(on_button_clicked)\n",
    "\n",
    "    # Display buttons\n",
    "    buttons = widgets.HBox([yes_button, no_button, maybe_button])\n",
    "    display(buttons)\n",
    "\n",
    "    \n",
    "    \n",
    "# Initialize variables\n",
    "current_index = 0\n",
    "keep_df = pd.DataFrame(columns=['Image', 'Keep'])\n",
    "\n",
    "all_indexes = np.arange(0, len(image_files) + 1)\n",
    "\n",
    "# for current_index in all_indexes:\n",
    "    \n",
    "    # Display the first image and buttons\n",
    "display_image(current_index)\n",
    "display_buttons()\n",
    "\n",
    "\n",
    "       \n",
    "\n"
   ]
  },
  {
   "cell_type": "code",
   "execution_count": 345,
   "metadata": {},
   "outputs": [
    {
     "name": "stdout",
     "output_type": "stream",
     "text": [
      "All images reviewed. DataFrame:\n",
      "Empty DataFrame\n",
      "Columns: [Image, Keep]\n",
      "Index: []\n"
     ]
    }
   ],
   "source": [
    "next_image()"
   ]
  },
  {
   "cell_type": "code",
   "execution_count": 349,
   "metadata": {},
   "outputs": [
    {
     "data": {
      "text/plain": [
       "(19156, 2)"
      ]
     },
     "execution_count": 349,
     "metadata": {},
     "output_type": "execute_result"
    }
   ],
   "source": [
    "done2 = pd.read_csv('/explore/nobackup/people/spotter5/cnn_mapping/Russia/anna_poly_check.csv')\n",
    "\n",
    "done2.shape"
   ]
  },
  {
   "cell_type": "code",
   "execution_count": 350,
   "metadata": {},
   "outputs": [
    {
     "data": {
      "text/plain": [
       "Keep\n",
       "Yes      40.410315\n",
       "No       30.324702\n",
       "Maybe    29.264982\n",
       "Name: proportion, dtype: float64"
      ]
     },
     "execution_count": 350,
     "metadata": {},
     "output_type": "execute_result"
    }
   ],
   "source": [
    "done2['Keep'].value_counts(normalize=True) * 100"
   ]
  },
  {
   "cell_type": "code",
   "execution_count": 348,
   "metadata": {},
   "outputs": [
    {
     "data": {
      "text/plain": [
       "0"
      ]
     },
     "execution_count": 348,
     "metadata": {},
     "output_type": "execute_result"
    }
   ],
   "source": [
    "len(image_files)"
   ]
  },
  {
   "cell_type": "code",
   "execution_count": 356,
   "metadata": {},
   "outputs": [],
   "source": [
    "#now just keep ids and save, will use this in EE to vizualize\n",
    "done = pd.read_csv('/explore/nobackup/people/spotter5/cnn_mapping/Russia/anna_poly_check.csv')\n",
    "\n",
    "done['Image'] = done['Image'].str.split('_').str[1].str.split('.').str[0]\n",
    "\n",
    "done.to_csv('/explore/nobackup/people/spotter5/cnn_mapping/Russia/anna_poly_check_ee.csv', index = False)"
   ]
  },
  {
   "cell_type": "markdown",
   "metadata": {},
   "source": [
    "I want to look at the variability in fire size in the three classes"
   ]
  },
  {
   "cell_type": "code",
   "execution_count": 12,
   "metadata": {},
   "outputs": [
    {
     "name": "stderr",
     "output_type": "stream",
     "text": [
      "/tmp/ipykernel_1637960/3917549008.py:12: UserWarning: Geometry column does not contain geometry.\n",
      "  in_shape['geometry'] = in_shape['geometry'].apply(lambda geom: geom.wkt)\n"
     ]
    },
    {
     "data": {
      "text/html": [
       "<div>\n",
       "<style scoped>\n",
       "    .dataframe tbody tr th:only-of-type {\n",
       "        vertical-align: middle;\n",
       "    }\n",
       "\n",
       "    .dataframe tbody tr th {\n",
       "        vertical-align: top;\n",
       "    }\n",
       "\n",
       "    .dataframe thead th {\n",
       "        text-align: right;\n",
       "    }\n",
       "</style>\n",
       "<table border=\"1\" class=\"dataframe\">\n",
       "  <thead>\n",
       "    <tr style=\"text-align: right;\">\n",
       "      <th></th>\n",
       "      <th>Year</th>\n",
       "      <th>ID</th>\n",
       "      <th>area</th>\n",
       "      <th>Keep</th>\n",
       "    </tr>\n",
       "  </thead>\n",
       "  <tbody>\n",
       "    <tr>\n",
       "      <th>0</th>\n",
       "      <td>2001.0</td>\n",
       "      <td>0</td>\n",
       "      <td>2.67227</td>\n",
       "      <td>Maybe</td>\n",
       "    </tr>\n",
       "    <tr>\n",
       "      <th>1</th>\n",
       "      <td>2001.0</td>\n",
       "      <td>1</td>\n",
       "      <td>3.82018</td>\n",
       "      <td>Yes</td>\n",
       "    </tr>\n",
       "    <tr>\n",
       "      <th>2</th>\n",
       "      <td>2001.0</td>\n",
       "      <td>2</td>\n",
       "      <td>40.10380</td>\n",
       "      <td>Yes</td>\n",
       "    </tr>\n",
       "    <tr>\n",
       "      <th>3</th>\n",
       "      <td>2001.0</td>\n",
       "      <td>3</td>\n",
       "      <td>45.77630</td>\n",
       "      <td>Yes</td>\n",
       "    </tr>\n",
       "    <tr>\n",
       "      <th>4</th>\n",
       "      <td>2001.0</td>\n",
       "      <td>4</td>\n",
       "      <td>34.63120</td>\n",
       "      <td>Maybe</td>\n",
       "    </tr>\n",
       "  </tbody>\n",
       "</table>\n",
       "</div>"
      ],
      "text/plain": [
       "     Year  ID      area   Keep\n",
       "0  2001.0   0   2.67227  Maybe\n",
       "1  2001.0   1   3.82018    Yes\n",
       "2  2001.0   2  40.10380    Yes\n",
       "3  2001.0   3  45.77630    Yes\n",
       "4  2001.0   4  34.63120  Maybe"
      ]
     },
     "execution_count": 12,
     "metadata": {},
     "output_type": "execute_result"
    }
   ],
   "source": [
    "df = pd.read_csv('/explore/nobackup/people/spotter5/cnn_mapping/Russia/anna_poly_check_ee.csv')\n",
    "\n",
    "df = df.rename(columns = {'Image': 'ID'})\n",
    "\n",
    "df = df[df['ID'] .isin (['29690000000000-0000000000', '29690000000000-0000023296']) == False]\n",
    "\n",
    "df['ID'] = df['ID'].astype(int)\n",
    "\n",
    "# #shapefile\n",
    "in_shape = gpd.read_file('/explore/nobackup/people/spotter5/cnn_mapping/Russia/anna_polygons.shp')\n",
    "\n",
    "in_shape['geometry'] = in_shape['geometry'].apply(lambda geom: geom.wkt)\n",
    "\n",
    "# Now, convert the GeoDataFrame to a Pandas DataFrame\n",
    "in_shape = pd.DataFrame(in_shape)\n",
    "in_shape = in_shape[['Year', 'ID', 'area']]\n",
    "\n",
    "in_shape.head()\n",
    "\n",
    "#left join\n",
    "in_shape = pd.merge(in_shape, df, on = 'ID', how = 'inner')\n",
    "\n",
    "in_shape.head()\n"
   ]
  },
  {
   "cell_type": "code",
   "execution_count": 17,
   "metadata": {},
   "outputs": [
    {
     "data": {
      "image/png": "[encoded data removed]",
      "text/plain": [
       "<Figure size 640x480 with 1 Axes>"
      ]
     },
     "metadata": {},
     "output_type": "display_data"
    }
   ],
   "source": [
    "sns.violinplot(y='Keep', x='area', data=in_shape, inner='box')\n",
    "\n",
    "# Display the plot\n",
    "# plt.title('Violin Plot of Area by Keep Category with Inner Boxplot')\n",
    "plt.xlim(-100, 400)\n",
    "\n",
    "plt.show()"
   ]
  },
  {
   "cell_type": "code",
   "execution_count": 21,
   "metadata": {},
   "outputs": [
    {
     "data": {
      "image/png": "[encoded data removed]",
      "text/plain": [
       "<Figure size 1000x600 with 1 Axes>"
      ]
     },
     "metadata": {},
     "output_type": "display_data"
    }
   ],
   "source": [
    "\n",
    "df = in_shape.copy()\n",
    "# Setting up the plot\n",
    "plt.figure(figsize=(10, 6))\n",
    "\n",
    "# Plotting density functions for each category in 'Keep'\n",
    "for category in df['Keep'].unique():\n",
    "    subset = df[df['Keep'] == category]\n",
    "    sns.kdeplot(subset['area'], label=category, fill=True)\n",
    "\n",
    "# Limit the x-axis to 1000\n",
    "plt.xlim(-100, 400)\n",
    "\n",
    "# Adding labels and title\n",
    "plt.xlabel('Area')\n",
    "plt.ylabel('Density')\n",
    "plt.title('Density Functions of Area by Keep Category')\n",
    "plt.legend()\n",
    "\n",
    "# Display the plot\n",
    "plt.show()"
   ]
  },
  {
   "cell_type": "code",
   "execution_count": 20,
   "metadata": {},
   "outputs": [
    {
     "data": {
      "text/plain": [
       "(19154, 4)"
      ]
     },
     "execution_count": 20,
     "metadata": {},
     "output_type": "execute_result"
    }
   ],
   "source": [
    "in_shape.shape"
   ]
  },
  {
   "cell_type": "code",
   "execution_count": 22,
   "metadata": {},
   "outputs": [
    {
     "data": {
      "text/plain": [
       "1.98663"
      ]
     },
     "execution_count": 22,
     "metadata": {},
     "output_type": "execute_result"
    }
   ],
   "source": [
    "df['area'].min()"
   ]
  },
  {
   "cell_type": "code",
   "execution_count": 34,
   "metadata": {},
   "outputs": [
    {
     "name": "stdout",
     "output_type": "stream",
     "text": [
      "171803\n",
      "154670\n"
     ]
    }
   ],
   "source": [
    "# #shapefile\n",
    "in_shape = gpd.read_file('/explore/nobackup/people/spotter5/cnn_mapping/Russia/anna_polygons.shp')\n",
    "\n",
    "in_shape['Year'] = in_shape['Year'].astype(int)\n",
    "\n",
    "remove = in_shape[in_shape['Year'] .isin ([2015, 2019])]\n",
    "remove.head()\n",
    "\n",
    "remove = remove[remove['ID'] .isin (['29690000000000-0000000000', '29690000000000-0000023296']) == False]\n",
    "remove['ID'] = remove['ID'].astype(str) + '.npy'\n",
    "\n",
    "remove = remove['ID'].tolist()\n",
    "\n",
    "def filter_items_by_ending(original_list, unwanted_endings):\n",
    "    \"\"\"\n",
    "    Filters out items from the original list that end with any of the specified unwanted endings.\n",
    "    \n",
    "    Parameters:\n",
    "    - original_list: List of strings to be filtered.\n",
    "    - unwanted_endings: List of string endings based on which items will be removed from the original list.\n",
    "    \n",
    "    Returns:\n",
    "    - List of filtered items not ending with any of the unwanted endings.\n",
    "    \"\"\"\n",
    "    # Use list comprehension to filter out unwanted items\n",
    "    return [item for item in original_list if not any(item.endswith(ending) for ending in unwanted_endings)]\n",
    "\n",
    "\n",
    "\n",
    "training_names = pd.read_csv('/explore/nobackup/people/spotter5/cnn_mapping/Russia/anna_good_training_files.csv')['Files'].tolist()\n",
    "\n",
    "print(len(training_names))\n",
    "\n",
    "training_names = filter_items_by_ending(training_names,remove)\n",
    "\n",
    "\n",
    "print(len(training_names))"
   ]
  },
  {
   "cell_type": "code",
   "execution_count": 35,
   "metadata": {},
   "outputs": [
    {
     "name": "stdout",
     "output_type": "stream",
     "text": [
      "171803\n",
      "17133\n"
     ]
    }
   ],
   "source": [
    "def keep_items_by_ending(original_list, wanted_endings):\n",
    "    \"\"\"\n",
    "    Keeps only the items from the original list that end with any of the specified wanted endings.\n",
    "    \n",
    "    Parameters:\n",
    "    - original_list: List of strings to be filtered.\n",
    "    - wanted_endings: List of string endings based on which items will be kept in the original list.\n",
    "    \n",
    "    Returns:\n",
    "    - List of items ending with any of the wanted endings.\n",
    "    \"\"\"\n",
    "    # Use list comprehension to filter and keep wanted items\n",
    "    return [item for item in original_list if any(item.endswith(ending) for ending in wanted_endings)]\n",
    "\n",
    "training_names = pd.read_csv('/explore/nobackup/people/spotter5/cnn_mapping/Russia/anna_good_training_files.csv')['Files'].tolist()\n",
    "\n",
    "print(len(training_names))\n",
    "\n",
    "training_names = keep_items_by_ending(training_names,remove)\n",
    "\n",
    "\n",
    "print(len(training_names))"
   ]
  },
  {
   "cell_type": "code",
   "execution_count": null,
   "metadata": {},
   "outputs": [],
   "source": []
  }
 ],
 "metadata": {
  "kernelspec": {
   "display_name": "Python [conda env:.conda-deeplearning3]",
   "language": "python",
   "name": "conda-env-.conda-deeplearning3-py"
  },
  "language_info": {
   "codemirror_mode": {
    "name": "ipython",
    "version": 3
   },
   "file_extension": ".py",
   "mimetype": "text/x-python",
   "name": "python",
   "nbconvert_exporter": "python",
   "pygments_lexer": "ipython3",
   "version": "3.10.11"
  }
 },
 "nbformat": 4,
 "nbformat_minor": 4
}
