{
 "cells": [
  {
   "cell_type": "code",
   "execution_count": 26,
   "id": "3ea8520b-9802-4026-95be-f7923da476e1",
   "metadata": {},
   "outputs": [],
   "source": [
    "import pandas as pd\n",
    "import os\n",
    "\n",
    "#get all the pathways\n",
    "training_names = pd.read_csv('/explore/nobackup/people/spotter5/cnn_mapping/Russia/ann_training_files.csv')['Files'].tolist()\n",
    "validation_names = pd.read_csv('/explore/nobackup/people/spotter5/cnn_mapping/Russia/ann_validation_files.csv')['Files'].tolist()\n",
    "testing_names = pd.read_csv('/explore/nobackup/people/spotter5/cnn_mapping/Russia/anna_testing_files.csv')['Files'].tolist()\n",
    "\n",
    "# training_names2 = pd.read_csv('/explore/nobackup/people/spotter5/cnn_mapping/Russia/mtbs_training_files.csv')['Files'].tolist()\n",
    "# validation_names2 = pd.read_csv('/explore/nobackup/people/spotter5/cnn_mapping/Russia/mtbs_validation_files.csv')['Files'].tolist()\n",
    "# testing_names2 = pd.read_csv('/explore/nobackup/people/spotter5/cnn_mapping/Russia/mtbs_testing_files.csv')['Files'].tolist()\n",
    "\n",
    "good_frame= pd.read_csv('/explore/nobackup/people/spotter5/cnn_mapping/Russia/anna_no_grass.csv')\n",
    "\n",
    "\n",
    "def get_good(in_list, good_frame):\n",
    "    \n",
    "    final = []\n",
    "    \n",
    "    for i in in_list:\n",
    "\n",
    "        #i is the ids we want to keep\n",
    "        try:\n",
    "\n",
    "            #this is the id from all fires\n",
    "            in_id = int(i.split('/')[-1].split('_')[2].replace('.npy', ''))\n",
    "\n",
    "            if in_id in good_frame['ID']:\n",
    "\n",
    "                final.append(i)\n",
    "        except:\n",
    "            pass\n",
    "\n",
    "    return final\n",
    "\n",
    "training_names2 = get_good(training_names, good_ids)\n",
    "validation_names = get_good(validation_names, good_ids)\n",
    "testing_names = get_good(testing_names, good_ids)"
   ]
  },
  {
   "cell_type": "code",
   "execution_count": 27,
   "id": "8388e7b6-1bcd-4989-be8b-979bc7ef79dc",
   "metadata": {},
   "outputs": [
    {
     "data": {
      "text/plain": [
       "(366684, 235160)"
      ]
     },
     "execution_count": 27,
     "metadata": {},
     "output_type": "execute_result"
    }
   ],
   "source": [
    "len(training_names), len(training_names2)"
   ]
  },
  {
   "cell_type": "code",
   "execution_count": 22,
   "id": "46ff25c9-4664-4ac6-a826-c85e9b95564f",
   "metadata": {},
   "outputs": [
    {
     "data": {
      "text/plain": [
       "numpy.int64"
      ]
     },
     "execution_count": 22,
     "metadata": {},
     "output_type": "execute_result"
    }
   ],
   "source": [
    "type(good_ids['ID'].unique()[0])"
   ]
  },
  {
   "cell_type": "code",
   "execution_count": null,
   "id": "6f3fd855-27b4-4464-af94-f1d7a58fff5b",
   "metadata": {},
   "outputs": [],
   "source": [
    "good_fr"
   ]
  }
 ],
 "metadata": {
  "kernelspec": {
   "display_name": "Python [conda env:.conda-deeplearning3]",
   "language": "python",
   "name": "conda-env-.conda-deeplearning3-py"
  },
  "language_info": {
   "codemirror_mode": {
    "name": "ipython",
    "version": 3
   },
   "file_extension": ".py",
   "mimetype": "text/x-python",
   "name": "python",
   "nbconvert_exporter": "python",
   "pygments_lexer": "ipython3",
   "version": "3.10.8"
  }
 },
 "nbformat": 4,
 "nbformat_minor": 5
}
